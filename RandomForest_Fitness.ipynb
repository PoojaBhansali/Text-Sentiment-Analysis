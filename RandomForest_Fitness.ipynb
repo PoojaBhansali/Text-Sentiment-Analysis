{
 "cells": [
  {
   "cell_type": "code",
   "execution_count": 1,
   "metadata": {},
   "outputs": [
    {
     "name": "stderr",
     "output_type": "stream",
     "text": [
      "[nltk_data] Downloading package wordnet to C:\\Users\\Abhisha\n",
      "[nltk_data]     Burande\\AppData\\Roaming\\nltk_data...\n",
      "[nltk_data]   Package wordnet is already up-to-date!\n"
     ]
    }
   ],
   "source": [
    "import pandas as pd\n",
    "#Scraping With GetOldTweets3\n",
    "#!pip install GetOldTweets3\n",
    "#import GetOldTweets3 as got\n",
    "import numpy as np\n",
    "import nltk\n",
    "from nltk.corpus import stopwords\n",
    "from nltk.tokenize import sent_tokenize, word_tokenize\n",
    "from nltk.tokenize import RegexpTokenizer\n",
    "from nltk.tokenize import sent_tokenize, word_tokenize\n",
    "from nltk.stem import PorterStemmer\n",
    "ps = PorterStemmer()\n",
    "import re\n",
    "from bs4 import BeautifulSoup\n",
    "from nltk.tokenize import WordPunctTokenizer\n",
    "nltk.download('wordnet')\n",
    "import matplotlib.pyplot as plt\n",
    "from textblob import TextBlob\n",
    "import codecs\n",
    "import pandas as pd\n",
    "from scipy import stats\n",
    "from sklearn.cluster import KMeans\n",
    "from sklearn.decomposition import PCA\n",
    "import matplotlib.pyplot as plt\n",
    "import seaborn as sns\n",
    "import sys\n",
    "from pandas_datareader import data as web\n",
    "import datetime\n",
    "import numpy as np"
   ]
  },
  {
   "cell_type": "code",
   "execution_count": 2,
   "metadata": {},
   "outputs": [],
   "source": [
    "yoga = pd.read_excel(\"C:/Users/Abhisha Burande/Downloads/GoHundred_title_data_yoga.xlsx\")\n",
    "zumba = pd.read_excel(\"C:/Users/Abhisha Burande/Downloads/GoHundred_title_data_zumba.xlsx\")\n",
    "meditation = pd.read_excel(\"C:/Users/Abhisha Burande/Downloads/GoHundred_title_data_meditation.xlsx\")\n",
    "exercise = pd.read_excel(\"C:/Users/Abhisha Burande/Downloads/GoHundred_title_data_exercise.xlsx\")\n",
    "gym = pd.read_excel(\"C:/Users/Abhisha Burande/Downloads/GoHundred_title_data_gym.xlsx\")\n",
    "pilates = pd.read_excel(\"C:/Users/Abhisha Burande/Downloads/GoHundred_title_data_pilates.xlsx\")\n",
    "bodyweight = pd.read_excel(\"C:/Users/Abhisha Burande/Downloads/GoHundred_title_data_bodyweight.xlsx\")\n",
    "crossfit = pd.read_excel(\"C:/Users/Abhisha Burande/Downloads/GoHundred_title_data_crossfit.xlsx\")\n"
   ]
  },
  {
   "cell_type": "code",
   "execution_count": 3,
   "metadata": {},
   "outputs": [
    {
     "data": {
      "text/html": [
       "<div>\n",
       "<style scoped>\n",
       "    .dataframe tbody tr th:only-of-type {\n",
       "        vertical-align: middle;\n",
       "    }\n",
       "\n",
       "    .dataframe tbody tr th {\n",
       "        vertical-align: top;\n",
       "    }\n",
       "\n",
       "    .dataframe thead th {\n",
       "        text-align: right;\n",
       "    }\n",
       "</style>\n",
       "<table border=\"1\" class=\"dataframe\">\n",
       "  <thead>\n",
       "    <tr style=\"text-align: right;\">\n",
       "      <th></th>\n",
       "      <th>Unnamed: 0</th>\n",
       "      <th>social_type</th>\n",
       "      <th>title</th>\n",
       "      <th>date</th>\n",
       "      <th>url</th>\n",
       "      <th>sentiment</th>\n",
       "      <th>word_count</th>\n",
       "      <th>no_punctuation</th>\n",
       "      <th>cleaned_text</th>\n",
       "    </tr>\n",
       "  </thead>\n",
       "  <tbody>\n",
       "    <tr>\n",
       "      <td>0</td>\n",
       "      <td>0</td>\n",
       "      <td>facebook</td>\n",
       "      <td>Monday Yoga Flow + Intention Setting now on Yo...</td>\n",
       "      <td>2020-06-01</td>\n",
       "      <td>https://www.facebook.com/rachelsyoga/videos/30...</td>\n",
       "      <td>NEUTRAL</td>\n",
       "      <td>14</td>\n",
       "      <td>Monday Yoga Flow  Intention Setting now on Yog...</td>\n",
       "      <td>monday yoga flow intention setting yogagirl jo...</td>\n",
       "    </tr>\n",
       "    <tr>\n",
       "      <td>1</td>\n",
       "      <td>1</td>\n",
       "      <td>facebook</td>\n",
       "      <td>I have felt FANTASTIC in my body all throughou...</td>\n",
       "      <td>2020-05-29</td>\n",
       "      <td>https://www.facebook.com/128573473884902/posts...</td>\n",
       "      <td>POSITIVE</td>\n",
       "      <td>146</td>\n",
       "      <td>I have felt FANTASTIC in my body all throughou...</td>\n",
       "      <td>felt fantastic body throughout quarantine real...</td>\n",
       "    </tr>\n",
       "  </tbody>\n",
       "</table>\n",
       "</div>"
      ],
      "text/plain": [
       "   Unnamed: 0 social_type                                              title  \\\n",
       "0           0    facebook  Monday Yoga Flow + Intention Setting now on Yo...   \n",
       "1           1    facebook  I have felt FANTASTIC in my body all throughou...   \n",
       "\n",
       "         date                                                url sentiment  \\\n",
       "0  2020-06-01  https://www.facebook.com/rachelsyoga/videos/30...   NEUTRAL   \n",
       "1  2020-05-29  https://www.facebook.com/128573473884902/posts...  POSITIVE   \n",
       "\n",
       "   word_count                                     no_punctuation  \\\n",
       "0          14  Monday Yoga Flow  Intention Setting now on Yog...   \n",
       "1         146  I have felt FANTASTIC in my body all throughou...   \n",
       "\n",
       "                                        cleaned_text  \n",
       "0  monday yoga flow intention setting yogagirl jo...  \n",
       "1  felt fantastic body throughout quarantine real...  "
      ]
     },
     "execution_count": 3,
     "metadata": {},
     "output_type": "execute_result"
    }
   ],
   "source": [
    "df=pd.concat([yoga,exercise,meditation,zumba,gym,pilates,bodyweight,crossfit],)\n",
    "df.head(2)"
   ]
  },
  {
   "cell_type": "code",
   "execution_count": 49,
   "metadata": {},
   "outputs": [
    {
     "data": {
      "text/html": [
       "<div>\n",
       "<style scoped>\n",
       "    .dataframe tbody tr th:only-of-type {\n",
       "        vertical-align: middle;\n",
       "    }\n",
       "\n",
       "    .dataframe tbody tr th {\n",
       "        vertical-align: top;\n",
       "    }\n",
       "\n",
       "    .dataframe thead th {\n",
       "        text-align: right;\n",
       "    }\n",
       "</style>\n",
       "<table border=\"1\" class=\"dataframe\">\n",
       "  <thead>\n",
       "    <tr style=\"text-align: right;\">\n",
       "      <th></th>\n",
       "      <th>social_type</th>\n",
       "    </tr>\n",
       "    <tr>\n",
       "      <th>date</th>\n",
       "      <th></th>\n",
       "    </tr>\n",
       "  </thead>\n",
       "  <tbody>\n",
       "    <tr>\n",
       "      <td>2019-11-12</td>\n",
       "      <td>1</td>\n",
       "    </tr>\n",
       "    <tr>\n",
       "      <td>2019-11-13</td>\n",
       "      <td>2</td>\n",
       "    </tr>\n",
       "    <tr>\n",
       "      <td>2019-11-14</td>\n",
       "      <td>1</td>\n",
       "    </tr>\n",
       "    <tr>\n",
       "      <td>2019-11-15</td>\n",
       "      <td>1</td>\n",
       "    </tr>\n",
       "    <tr>\n",
       "      <td>2019-11-16</td>\n",
       "      <td>1</td>\n",
       "    </tr>\n",
       "    <tr>\n",
       "      <td>...</td>\n",
       "      <td>...</td>\n",
       "    </tr>\n",
       "    <tr>\n",
       "      <td>2020-05-29</td>\n",
       "      <td>22</td>\n",
       "    </tr>\n",
       "    <tr>\n",
       "      <td>2020-05-30</td>\n",
       "      <td>26</td>\n",
       "    </tr>\n",
       "    <tr>\n",
       "      <td>2020-05-31</td>\n",
       "      <td>48</td>\n",
       "    </tr>\n",
       "    <tr>\n",
       "      <td>2020-06-01</td>\n",
       "      <td>109</td>\n",
       "    </tr>\n",
       "    <tr>\n",
       "      <td>2020-06-02</td>\n",
       "      <td>710</td>\n",
       "    </tr>\n",
       "  </tbody>\n",
       "</table>\n",
       "<p>182 rows × 1 columns</p>\n",
       "</div>"
      ],
      "text/plain": [
       "            social_type\n",
       "date                   \n",
       "2019-11-12            1\n",
       "2019-11-13            2\n",
       "2019-11-14            1\n",
       "2019-11-15            1\n",
       "2019-11-16            1\n",
       "...                 ...\n",
       "2020-05-29           22\n",
       "2020-05-30           26\n",
       "2020-05-31           48\n",
       "2020-06-01          109\n",
       "2020-06-02          710\n",
       "\n",
       "[182 rows x 1 columns]"
      ]
     },
     "execution_count": 49,
     "metadata": {},
     "output_type": "execute_result"
    }
   ],
   "source": [
    "data = df[['date', 'social_type']].groupby('date').count()\n",
    "data"
   ]
  },
  {
   "cell_type": "code",
   "execution_count": 5,
   "metadata": {},
   "outputs": [
    {
     "data": {
      "text/html": [
       "<div>\n",
       "<style scoped>\n",
       "    .dataframe tbody tr th:only-of-type {\n",
       "        vertical-align: middle;\n",
       "    }\n",
       "\n",
       "    .dataframe tbody tr th {\n",
       "        vertical-align: top;\n",
       "    }\n",
       "\n",
       "    .dataframe thead th {\n",
       "        text-align: right;\n",
       "    }\n",
       "</style>\n",
       "<table border=\"1\" class=\"dataframe\">\n",
       "  <thead>\n",
       "    <tr style=\"text-align: right;\">\n",
       "      <th></th>\n",
       "      <th>date</th>\n",
       "      <th>cleaned_text</th>\n",
       "    </tr>\n",
       "  </thead>\n",
       "  <tbody>\n",
       "    <tr>\n",
       "      <td>0</td>\n",
       "      <td>2020-06-01</td>\n",
       "      <td>monday yoga flow intention setting yogagirl jo...</td>\n",
       "    </tr>\n",
       "    <tr>\n",
       "      <td>1</td>\n",
       "      <td>2020-05-29</td>\n",
       "      <td>felt fantastic body throughout quarantine real...</td>\n",
       "    </tr>\n",
       "    <tr>\n",
       "      <td>2</td>\n",
       "      <td>2020-05-29</td>\n",
       "      <td>live shaking meditation dance party starting y...</td>\n",
       "    </tr>\n",
       "    <tr>\n",
       "      <td>3</td>\n",
       "      <td>2020-05-29</td>\n",
       "      <td>feeling low anxious overwhelmed today shake</td>\n",
       "    </tr>\n",
       "    <tr>\n",
       "      <td>4</td>\n",
       "      <td>2020-05-27</td>\n",
       "      <td>tune hublive today pm instagram watch flow dha...</td>\n",
       "    </tr>\n",
       "    <tr>\n",
       "      <td>...</td>\n",
       "      <td>...</td>\n",
       "      <td>...</td>\n",
       "    </tr>\n",
       "    <tr>\n",
       "      <td>135</td>\n",
       "      <td>2020-06-02</td>\n",
       "      <td>michigan best workout crossfit mlive</td>\n",
       "    </tr>\n",
       "    <tr>\n",
       "      <td>136</td>\n",
       "      <td>2020-06-02</td>\n",
       "      <td>crossfit angeles google maps</td>\n",
       "    </tr>\n",
       "    <tr>\n",
       "      <td>137</td>\n",
       "      <td>2020-06-02</td>\n",
       "      <td>eat like fittest earth outside online</td>\n",
       "    </tr>\n",
       "    <tr>\n",
       "      <td>138</td>\n",
       "      <td>2020-06-02</td>\n",
       "      <td>paradiso crossfit venice best crossfit gym per...</td>\n",
       "    </tr>\n",
       "    <tr>\n",
       "      <td>139</td>\n",
       "      <td>2020-06-02</td>\n",
       "      <td>crossfit blvd google maps</td>\n",
       "    </tr>\n",
       "  </tbody>\n",
       "</table>\n",
       "<p>2184 rows × 2 columns</p>\n",
       "</div>"
      ],
      "text/plain": [
       "           date                                       cleaned_text\n",
       "0    2020-06-01  monday yoga flow intention setting yogagirl jo...\n",
       "1    2020-05-29  felt fantastic body throughout quarantine real...\n",
       "2    2020-05-29  live shaking meditation dance party starting y...\n",
       "3    2020-05-29        feeling low anxious overwhelmed today shake\n",
       "4    2020-05-27  tune hublive today pm instagram watch flow dha...\n",
       "..          ...                                                ...\n",
       "135  2020-06-02               michigan best workout crossfit mlive\n",
       "136  2020-06-02                       crossfit angeles google maps\n",
       "137  2020-06-02              eat like fittest earth outside online\n",
       "138  2020-06-02  paradiso crossfit venice best crossfit gym per...\n",
       "139  2020-06-02                          crossfit blvd google maps\n",
       "\n",
       "[2184 rows x 2 columns]"
      ]
     },
     "execution_count": 5,
     "metadata": {},
     "output_type": "execute_result"
    }
   ],
   "source": [
    "cdata=df[['date','cleaned_text']]\n",
    "cdata"
   ]
  },
  {
   "cell_type": "code",
   "execution_count": 6,
   "metadata": {},
   "outputs": [],
   "source": [
    "cdata=cdata.groupby('date')['cleaned_text'].agg(lambda x: ' '.join(x.astype(str))).reset_index()"
   ]
  },
  {
   "cell_type": "code",
   "execution_count": 7,
   "metadata": {},
   "outputs": [
    {
     "data": {
      "text/html": [
       "<div>\n",
       "<style scoped>\n",
       "    .dataframe tbody tr th:only-of-type {\n",
       "        vertical-align: middle;\n",
       "    }\n",
       "\n",
       "    .dataframe tbody tr th {\n",
       "        vertical-align: top;\n",
       "    }\n",
       "\n",
       "    .dataframe thead th {\n",
       "        text-align: right;\n",
       "    }\n",
       "</style>\n",
       "<table border=\"1\" class=\"dataframe\">\n",
       "  <thead>\n",
       "    <tr style=\"text-align: right;\">\n",
       "      <th></th>\n",
       "      <th>date</th>\n",
       "      <th>cleaned_text</th>\n",
       "    </tr>\n",
       "  </thead>\n",
       "  <tbody>\n",
       "    <tr>\n",
       "      <td>0</td>\n",
       "      <td>2019-11-12</td>\n",
       "      <td>meghan faulkenberry gritting teeth final km no...</td>\n",
       "    </tr>\n",
       "    <tr>\n",
       "      <td>1</td>\n",
       "      <td>2019-11-13</td>\n",
       "      <td>pilates sport going road trip december brad tw...</td>\n",
       "    </tr>\n",
       "    <tr>\n",
       "      <td>2</td>\n",
       "      <td>2019-11-14</td>\n",
       "      <td>week get unfiltered delia buckmaster making to...</td>\n",
       "    </tr>\n",
       "    <tr>\n",
       "      <td>3</td>\n",
       "      <td>2019-11-15</td>\n",
       "      <td>episode delia buckmaster get dirty truth pulls...</td>\n",
       "    </tr>\n",
       "    <tr>\n",
       "      <td>4</td>\n",
       "      <td>2019-11-16</td>\n",
       "      <td>video fantastic weekend pfs usa triathlon cont...</td>\n",
       "    </tr>\n",
       "    <tr>\n",
       "      <td>...</td>\n",
       "      <td>...</td>\n",
       "      <td>...</td>\n",
       "    </tr>\n",
       "    <tr>\n",
       "      <td>177</td>\n",
       "      <td>2020-05-29</td>\n",
       "      <td>felt fantastic body throughout quarantine real...</td>\n",
       "    </tr>\n",
       "    <tr>\n",
       "      <td>178</td>\n",
       "      <td>2020-05-30</td>\n",
       "      <td>wall stretches relieve back pain know past mon...</td>\n",
       "    </tr>\n",
       "    <tr>\n",
       "      <td>179</td>\n",
       "      <td>2020-05-31</td>\n",
       "      <td>hey wonder yogiz self sunday dayyogachallenge ...</td>\n",
       "    </tr>\n",
       "    <tr>\n",
       "      <td>180</td>\n",
       "      <td>2020-06-01</td>\n",
       "      <td>monday yoga flow intention setting yogagirl jo...</td>\n",
       "    </tr>\n",
       "    <tr>\n",
       "      <td>181</td>\n",
       "      <td>2020-06-02</td>\n",
       "      <td>twisted morning yoga going live grab yoga mat ...</td>\n",
       "    </tr>\n",
       "  </tbody>\n",
       "</table>\n",
       "<p>182 rows × 2 columns</p>\n",
       "</div>"
      ],
      "text/plain": [
       "           date                                       cleaned_text\n",
       "0    2019-11-12  meghan faulkenberry gritting teeth final km no...\n",
       "1    2019-11-13  pilates sport going road trip december brad tw...\n",
       "2    2019-11-14  week get unfiltered delia buckmaster making to...\n",
       "3    2019-11-15  episode delia buckmaster get dirty truth pulls...\n",
       "4    2019-11-16  video fantastic weekend pfs usa triathlon cont...\n",
       "..          ...                                                ...\n",
       "177  2020-05-29  felt fantastic body throughout quarantine real...\n",
       "178  2020-05-30  wall stretches relieve back pain know past mon...\n",
       "179  2020-05-31  hey wonder yogiz self sunday dayyogachallenge ...\n",
       "180  2020-06-01  monday yoga flow intention setting yogagirl jo...\n",
       "181  2020-06-02  twisted morning yoga going live grab yoga mat ...\n",
       "\n",
       "[182 rows x 2 columns]"
      ]
     },
     "execution_count": 7,
     "metadata": {},
     "output_type": "execute_result"
    }
   ],
   "source": [
    "cdata"
   ]
  },
  {
   "cell_type": "code",
   "execution_count": 8,
   "metadata": {},
   "outputs": [
    {
     "data": {
      "text/html": [
       "<div>\n",
       "<style scoped>\n",
       "    .dataframe tbody tr th:only-of-type {\n",
       "        vertical-align: middle;\n",
       "    }\n",
       "\n",
       "    .dataframe tbody tr th {\n",
       "        vertical-align: top;\n",
       "    }\n",
       "\n",
       "    .dataframe thead th {\n",
       "        text-align: right;\n",
       "    }\n",
       "</style>\n",
       "<table border=\"1\" class=\"dataframe\">\n",
       "  <thead>\n",
       "    <tr style=\"text-align: right;\">\n",
       "      <th></th>\n",
       "      <th>date</th>\n",
       "      <th>cleaned_text</th>\n",
       "      <th>Comp</th>\n",
       "      <th>Negative</th>\n",
       "      <th>Neutral</th>\n",
       "      <th>Positive</th>\n",
       "    </tr>\n",
       "  </thead>\n",
       "  <tbody>\n",
       "    <tr>\n",
       "      <td>0</td>\n",
       "      <td>2019-11-12</td>\n",
       "      <td>meghan faulkenberry gritting teeth final km no...</td>\n",
       "      <td></td>\n",
       "      <td></td>\n",
       "      <td></td>\n",
       "      <td></td>\n",
       "    </tr>\n",
       "    <tr>\n",
       "      <td>1</td>\n",
       "      <td>2019-11-13</td>\n",
       "      <td>pilates sport going road trip december brad tw...</td>\n",
       "      <td></td>\n",
       "      <td></td>\n",
       "      <td></td>\n",
       "      <td></td>\n",
       "    </tr>\n",
       "    <tr>\n",
       "      <td>2</td>\n",
       "      <td>2019-11-14</td>\n",
       "      <td>week get unfiltered delia buckmaster making to...</td>\n",
       "      <td></td>\n",
       "      <td></td>\n",
       "      <td></td>\n",
       "      <td></td>\n",
       "    </tr>\n",
       "    <tr>\n",
       "      <td>3</td>\n",
       "      <td>2019-11-15</td>\n",
       "      <td>episode delia buckmaster get dirty truth pulls...</td>\n",
       "      <td></td>\n",
       "      <td></td>\n",
       "      <td></td>\n",
       "      <td></td>\n",
       "    </tr>\n",
       "    <tr>\n",
       "      <td>4</td>\n",
       "      <td>2019-11-16</td>\n",
       "      <td>video fantastic weekend pfs usa triathlon cont...</td>\n",
       "      <td></td>\n",
       "      <td></td>\n",
       "      <td></td>\n",
       "      <td></td>\n",
       "    </tr>\n",
       "    <tr>\n",
       "      <td>...</td>\n",
       "      <td>...</td>\n",
       "      <td>...</td>\n",
       "      <td>...</td>\n",
       "      <td>...</td>\n",
       "      <td>...</td>\n",
       "      <td>...</td>\n",
       "    </tr>\n",
       "    <tr>\n",
       "      <td>177</td>\n",
       "      <td>2020-05-29</td>\n",
       "      <td>felt fantastic body throughout quarantine real...</td>\n",
       "      <td></td>\n",
       "      <td></td>\n",
       "      <td></td>\n",
       "      <td></td>\n",
       "    </tr>\n",
       "    <tr>\n",
       "      <td>178</td>\n",
       "      <td>2020-05-30</td>\n",
       "      <td>wall stretches relieve back pain know past mon...</td>\n",
       "      <td></td>\n",
       "      <td></td>\n",
       "      <td></td>\n",
       "      <td></td>\n",
       "    </tr>\n",
       "    <tr>\n",
       "      <td>179</td>\n",
       "      <td>2020-05-31</td>\n",
       "      <td>hey wonder yogiz self sunday dayyogachallenge ...</td>\n",
       "      <td></td>\n",
       "      <td></td>\n",
       "      <td></td>\n",
       "      <td></td>\n",
       "    </tr>\n",
       "    <tr>\n",
       "      <td>180</td>\n",
       "      <td>2020-06-01</td>\n",
       "      <td>monday yoga flow intention setting yogagirl jo...</td>\n",
       "      <td></td>\n",
       "      <td></td>\n",
       "      <td></td>\n",
       "      <td></td>\n",
       "    </tr>\n",
       "    <tr>\n",
       "      <td>181</td>\n",
       "      <td>2020-06-02</td>\n",
       "      <td>twisted morning yoga going live grab yoga mat ...</td>\n",
       "      <td></td>\n",
       "      <td></td>\n",
       "      <td></td>\n",
       "      <td></td>\n",
       "    </tr>\n",
       "  </tbody>\n",
       "</table>\n",
       "<p>182 rows × 6 columns</p>\n",
       "</div>"
      ],
      "text/plain": [
       "           date                                       cleaned_text Comp  \\\n",
       "0    2019-11-12  meghan faulkenberry gritting teeth final km no...        \n",
       "1    2019-11-13  pilates sport going road trip december brad tw...        \n",
       "2    2019-11-14  week get unfiltered delia buckmaster making to...        \n",
       "3    2019-11-15  episode delia buckmaster get dirty truth pulls...        \n",
       "4    2019-11-16  video fantastic weekend pfs usa triathlon cont...        \n",
       "..          ...                                                ...  ...   \n",
       "177  2020-05-29  felt fantastic body throughout quarantine real...        \n",
       "178  2020-05-30  wall stretches relieve back pain know past mon...        \n",
       "179  2020-05-31  hey wonder yogiz self sunday dayyogachallenge ...        \n",
       "180  2020-06-01  monday yoga flow intention setting yogagirl jo...        \n",
       "181  2020-06-02  twisted morning yoga going live grab yoga mat ...        \n",
       "\n",
       "    Negative Neutral Positive  \n",
       "0                              \n",
       "1                              \n",
       "2                              \n",
       "3                              \n",
       "4                              \n",
       "..       ...     ...      ...  \n",
       "177                            \n",
       "178                            \n",
       "179                            \n",
       "180                            \n",
       "181                            \n",
       "\n",
       "[182 rows x 6 columns]"
      ]
     },
     "execution_count": 8,
     "metadata": {},
     "output_type": "execute_result"
    }
   ],
   "source": [
    "cdata[\"Comp\"] = ''\n",
    "cdata[\"Negative\"] = ''\n",
    "cdata[\"Neutral\"] = ''\n",
    "cdata[\"Positive\"] = ''\n",
    "cdata"
   ]
  },
  {
   "cell_type": "code",
   "execution_count": 9,
   "metadata": {},
   "outputs": [
    {
     "data": {
      "text/html": [
       "<div>\n",
       "<style scoped>\n",
       "    .dataframe tbody tr th:only-of-type {\n",
       "        vertical-align: middle;\n",
       "    }\n",
       "\n",
       "    .dataframe tbody tr th {\n",
       "        vertical-align: top;\n",
       "    }\n",
       "\n",
       "    .dataframe thead th {\n",
       "        text-align: right;\n",
       "    }\n",
       "</style>\n",
       "<table border=\"1\" class=\"dataframe\">\n",
       "  <thead>\n",
       "    <tr style=\"text-align: right;\">\n",
       "      <th></th>\n",
       "      <th>date</th>\n",
       "      <th>cleaned_text</th>\n",
       "      <th>Comp</th>\n",
       "      <th>Negative</th>\n",
       "      <th>Neutral</th>\n",
       "      <th>Positive</th>\n",
       "    </tr>\n",
       "  </thead>\n",
       "  <tbody>\n",
       "    <tr>\n",
       "      <td>0</td>\n",
       "      <td>2019-11-12</td>\n",
       "      <td>meghan faulkenberry gritting teeth final km no...</td>\n",
       "      <td></td>\n",
       "      <td></td>\n",
       "      <td></td>\n",
       "      <td></td>\n",
       "    </tr>\n",
       "    <tr>\n",
       "      <td>1</td>\n",
       "      <td>2019-11-13</td>\n",
       "      <td>pilates sport going road trip december brad tw...</td>\n",
       "      <td></td>\n",
       "      <td></td>\n",
       "      <td></td>\n",
       "      <td></td>\n",
       "    </tr>\n",
       "    <tr>\n",
       "      <td>2</td>\n",
       "      <td>2019-11-14</td>\n",
       "      <td>week get unfiltered delia buckmaster making to...</td>\n",
       "      <td></td>\n",
       "      <td></td>\n",
       "      <td></td>\n",
       "      <td></td>\n",
       "    </tr>\n",
       "    <tr>\n",
       "      <td>3</td>\n",
       "      <td>2019-11-15</td>\n",
       "      <td>episode delia buckmaster get dirty truth pulls...</td>\n",
       "      <td></td>\n",
       "      <td></td>\n",
       "      <td></td>\n",
       "      <td></td>\n",
       "    </tr>\n",
       "    <tr>\n",
       "      <td>4</td>\n",
       "      <td>2019-11-16</td>\n",
       "      <td>video fantastic weekend pfs usa triathlon cont...</td>\n",
       "      <td></td>\n",
       "      <td></td>\n",
       "      <td></td>\n",
       "      <td></td>\n",
       "    </tr>\n",
       "    <tr>\n",
       "      <td>...</td>\n",
       "      <td>...</td>\n",
       "      <td>...</td>\n",
       "      <td>...</td>\n",
       "      <td>...</td>\n",
       "      <td>...</td>\n",
       "      <td>...</td>\n",
       "    </tr>\n",
       "    <tr>\n",
       "      <td>177</td>\n",
       "      <td>2020-05-29</td>\n",
       "      <td>felt fantastic body throughout quarantine real...</td>\n",
       "      <td></td>\n",
       "      <td></td>\n",
       "      <td></td>\n",
       "      <td></td>\n",
       "    </tr>\n",
       "    <tr>\n",
       "      <td>178</td>\n",
       "      <td>2020-05-30</td>\n",
       "      <td>wall stretches relieve back pain know past mon...</td>\n",
       "      <td></td>\n",
       "      <td></td>\n",
       "      <td></td>\n",
       "      <td></td>\n",
       "    </tr>\n",
       "    <tr>\n",
       "      <td>179</td>\n",
       "      <td>2020-05-31</td>\n",
       "      <td>hey wonder yogiz self sunday dayyogachallenge ...</td>\n",
       "      <td></td>\n",
       "      <td></td>\n",
       "      <td></td>\n",
       "      <td></td>\n",
       "    </tr>\n",
       "    <tr>\n",
       "      <td>180</td>\n",
       "      <td>2020-06-01</td>\n",
       "      <td>monday yoga flow intention setting yogagirl jo...</td>\n",
       "      <td></td>\n",
       "      <td></td>\n",
       "      <td></td>\n",
       "      <td></td>\n",
       "    </tr>\n",
       "    <tr>\n",
       "      <td>181</td>\n",
       "      <td>2020-06-02</td>\n",
       "      <td>twisted morning yoga going live grab yoga mat ...</td>\n",
       "      <td></td>\n",
       "      <td></td>\n",
       "      <td></td>\n",
       "      <td></td>\n",
       "    </tr>\n",
       "  </tbody>\n",
       "</table>\n",
       "<p>182 rows × 6 columns</p>\n",
       "</div>"
      ],
      "text/plain": [
       "           date                                       cleaned_text Comp  \\\n",
       "0    2019-11-12  meghan faulkenberry gritting teeth final km no...        \n",
       "1    2019-11-13  pilates sport going road trip december brad tw...        \n",
       "2    2019-11-14  week get unfiltered delia buckmaster making to...        \n",
       "3    2019-11-15  episode delia buckmaster get dirty truth pulls...        \n",
       "4    2019-11-16  video fantastic weekend pfs usa triathlon cont...        \n",
       "..          ...                                                ...  ...   \n",
       "177  2020-05-29  felt fantastic body throughout quarantine real...        \n",
       "178  2020-05-30  wall stretches relieve back pain know past mon...        \n",
       "179  2020-05-31  hey wonder yogiz self sunday dayyogachallenge ...        \n",
       "180  2020-06-01  monday yoga flow intention setting yogagirl jo...        \n",
       "181  2020-06-02  twisted morning yoga going live grab yoga mat ...        \n",
       "\n",
       "    Negative Neutral Positive  \n",
       "0                              \n",
       "1                              \n",
       "2                              \n",
       "3                              \n",
       "4                              \n",
       "..       ...     ...      ...  \n",
       "177                            \n",
       "178                            \n",
       "179                            \n",
       "180                            \n",
       "181                            \n",
       "\n",
       "[182 rows x 6 columns]"
      ]
     },
     "execution_count": 9,
     "metadata": {},
     "output_type": "execute_result"
    }
   ],
   "source": [
    "cdata =cdata.dropna()\n",
    "cdata"
   ]
  },
  {
   "cell_type": "code",
   "execution_count": 10,
   "metadata": {},
   "outputs": [
    {
     "name": "stderr",
     "output_type": "stream",
     "text": [
      "C:\\Users\\Abhisha Burande\\Anaconda3\\lib\\site-packages\\ipykernel_launcher.py:8: FutureWarning: set_value is deprecated and will be removed in a future release. Please use .at[] or .iat[] accessors instead\n",
      "  \n",
      "C:\\Users\\Abhisha Burande\\Anaconda3\\lib\\site-packages\\ipykernel_launcher.py:9: FutureWarning: set_value is deprecated and will be removed in a future release. Please use .at[] or .iat[] accessors instead\n",
      "  if __name__ == '__main__':\n",
      "C:\\Users\\Abhisha Burande\\Anaconda3\\lib\\site-packages\\ipykernel_launcher.py:10: FutureWarning: set_value is deprecated and will be removed in a future release. Please use .at[] or .iat[] accessors instead\n",
      "  # Remove the CWD from sys.path while we load stuff.\n",
      "C:\\Users\\Abhisha Burande\\Anaconda3\\lib\\site-packages\\ipykernel_launcher.py:11: FutureWarning: set_value is deprecated and will be removed in a future release. Please use .at[] or .iat[] accessors instead\n",
      "  # This is added back by InteractiveShellApp.init_path()\n"
     ]
    }
   ],
   "source": [
    "from nltk.sentiment.vader import SentimentIntensityAnalyzer\n",
    "import unicodedata\n",
    "sentiment_i_a = SentimentIntensityAnalyzer()\n",
    "for indexx, row in cdata.T.iteritems():\n",
    "    try:\n",
    "        sentence_i = unicodedata.normalize('NFKD', cdata.loc[indexx, 'cleaned_text'])\n",
    "        sentence_sentiment = sentiment_i_a.polarity_scores(sentence_i)\n",
    "        cdata.set_value(indexx, 'Comp', sentence_sentiment['compound'])\n",
    "        cdata.set_value(indexx, 'Negative', sentence_sentiment['neg'])\n",
    "        cdata.set_value(indexx, 'Neutral', sentence_sentiment['neu'])\n",
    "        cdata.set_value(indexx, 'Positive', sentence_sentiment['pos'])\n",
    "    except TypeError:\n",
    "        print (cdata.loc[indexx, 'cleaned_text'])\n",
    "        print (indexx)\n"
   ]
  },
  {
   "cell_type": "code",
   "execution_count": 11,
   "metadata": {},
   "outputs": [
    {
     "data": {
      "text/html": [
       "<div>\n",
       "<style scoped>\n",
       "    .dataframe tbody tr th:only-of-type {\n",
       "        vertical-align: middle;\n",
       "    }\n",
       "\n",
       "    .dataframe tbody tr th {\n",
       "        vertical-align: top;\n",
       "    }\n",
       "\n",
       "    .dataframe thead th {\n",
       "        text-align: right;\n",
       "    }\n",
       "</style>\n",
       "<table border=\"1\" class=\"dataframe\">\n",
       "  <thead>\n",
       "    <tr style=\"text-align: right;\">\n",
       "      <th></th>\n",
       "      <th>date</th>\n",
       "      <th>cleaned_text</th>\n",
       "      <th>Comp</th>\n",
       "      <th>Negative</th>\n",
       "      <th>Neutral</th>\n",
       "      <th>Positive</th>\n",
       "    </tr>\n",
       "  </thead>\n",
       "  <tbody>\n",
       "    <tr>\n",
       "      <td>0</td>\n",
       "      <td>2019-11-12</td>\n",
       "      <td>meghan faulkenberry gritting teeth final km no...</td>\n",
       "      <td>0.743</td>\n",
       "      <td>0</td>\n",
       "      <td>0.73</td>\n",
       "      <td>0.27</td>\n",
       "    </tr>\n",
       "    <tr>\n",
       "      <td>1</td>\n",
       "      <td>2019-11-13</td>\n",
       "      <td>pilates sport going road trip december brad tw...</td>\n",
       "      <td>0</td>\n",
       "      <td>0</td>\n",
       "      <td>1</td>\n",
       "      <td>0</td>\n",
       "    </tr>\n",
       "    <tr>\n",
       "      <td>2</td>\n",
       "      <td>2019-11-14</td>\n",
       "      <td>week get unfiltered delia buckmaster making to...</td>\n",
       "      <td>0.8126</td>\n",
       "      <td>0.101</td>\n",
       "      <td>0.598</td>\n",
       "      <td>0.302</td>\n",
       "    </tr>\n",
       "    <tr>\n",
       "      <td>3</td>\n",
       "      <td>2019-11-15</td>\n",
       "      <td>episode delia buckmaster get dirty truth pulls...</td>\n",
       "      <td>0.0258</td>\n",
       "      <td>0.172</td>\n",
       "      <td>0.592</td>\n",
       "      <td>0.237</td>\n",
       "    </tr>\n",
       "    <tr>\n",
       "      <td>4</td>\n",
       "      <td>2019-11-16</td>\n",
       "      <td>video fantastic weekend pfs usa triathlon cont...</td>\n",
       "      <td>0.872</td>\n",
       "      <td>0</td>\n",
       "      <td>0.476</td>\n",
       "      <td>0.524</td>\n",
       "    </tr>\n",
       "    <tr>\n",
       "      <td>...</td>\n",
       "      <td>...</td>\n",
       "      <td>...</td>\n",
       "      <td>...</td>\n",
       "      <td>...</td>\n",
       "      <td>...</td>\n",
       "      <td>...</td>\n",
       "    </tr>\n",
       "    <tr>\n",
       "      <td>177</td>\n",
       "      <td>2020-05-29</td>\n",
       "      <td>felt fantastic body throughout quarantine real...</td>\n",
       "      <td>0.998</td>\n",
       "      <td>0.039</td>\n",
       "      <td>0.687</td>\n",
       "      <td>0.275</td>\n",
       "    </tr>\n",
       "    <tr>\n",
       "      <td>178</td>\n",
       "      <td>2020-05-30</td>\n",
       "      <td>wall stretches relieve back pain know past mon...</td>\n",
       "      <td>0.9935</td>\n",
       "      <td>0.058</td>\n",
       "      <td>0.671</td>\n",
       "      <td>0.271</td>\n",
       "    </tr>\n",
       "    <tr>\n",
       "      <td>179</td>\n",
       "      <td>2020-05-31</td>\n",
       "      <td>hey wonder yogiz self sunday dayyogachallenge ...</td>\n",
       "      <td>0.9987</td>\n",
       "      <td>0.053</td>\n",
       "      <td>0.681</td>\n",
       "      <td>0.265</td>\n",
       "    </tr>\n",
       "    <tr>\n",
       "      <td>180</td>\n",
       "      <td>2020-06-01</td>\n",
       "      <td>monday yoga flow intention setting yogagirl jo...</td>\n",
       "      <td>0.999</td>\n",
       "      <td>0.061</td>\n",
       "      <td>0.743</td>\n",
       "      <td>0.196</td>\n",
       "    </tr>\n",
       "    <tr>\n",
       "      <td>181</td>\n",
       "      <td>2020-06-02</td>\n",
       "      <td>twisted morning yoga going live grab yoga mat ...</td>\n",
       "      <td>1</td>\n",
       "      <td>0.058</td>\n",
       "      <td>0.766</td>\n",
       "      <td>0.176</td>\n",
       "    </tr>\n",
       "  </tbody>\n",
       "</table>\n",
       "<p>182 rows × 6 columns</p>\n",
       "</div>"
      ],
      "text/plain": [
       "           date                                       cleaned_text    Comp  \\\n",
       "0    2019-11-12  meghan faulkenberry gritting teeth final km no...   0.743   \n",
       "1    2019-11-13  pilates sport going road trip december brad tw...       0   \n",
       "2    2019-11-14  week get unfiltered delia buckmaster making to...  0.8126   \n",
       "3    2019-11-15  episode delia buckmaster get dirty truth pulls...  0.0258   \n",
       "4    2019-11-16  video fantastic weekend pfs usa triathlon cont...   0.872   \n",
       "..          ...                                                ...     ...   \n",
       "177  2020-05-29  felt fantastic body throughout quarantine real...   0.998   \n",
       "178  2020-05-30  wall stretches relieve back pain know past mon...  0.9935   \n",
       "179  2020-05-31  hey wonder yogiz self sunday dayyogachallenge ...  0.9987   \n",
       "180  2020-06-01  monday yoga flow intention setting yogagirl jo...   0.999   \n",
       "181  2020-06-02  twisted morning yoga going live grab yoga mat ...       1   \n",
       "\n",
       "    Negative Neutral Positive  \n",
       "0          0    0.73     0.27  \n",
       "1          0       1        0  \n",
       "2      0.101   0.598    0.302  \n",
       "3      0.172   0.592    0.237  \n",
       "4          0   0.476    0.524  \n",
       "..       ...     ...      ...  \n",
       "177    0.039   0.687    0.275  \n",
       "178    0.058   0.671    0.271  \n",
       "179    0.053   0.681    0.265  \n",
       "180    0.061   0.743    0.196  \n",
       "181    0.058   0.766    0.176  \n",
       "\n",
       "[182 rows x 6 columns]"
      ]
     },
     "execution_count": 11,
     "metadata": {},
     "output_type": "execute_result"
    }
   ],
   "source": [
    "cdata"
   ]
  },
  {
   "cell_type": "code",
   "execution_count": 12,
   "metadata": {},
   "outputs": [
    {
     "name": "stdout",
     "output_type": "stream",
     "text": [
      "% of positive tweets=  90.65934065934066\n",
      "% of negative tweets=  2.197802197802198\n",
      "% of neutral tweets=  7.142857142857142\n"
     ]
    },
    {
     "data": {
      "text/plain": [
       "[]"
      ]
     },
     "execution_count": 12,
     "metadata": {},
     "output_type": "execute_result"
    },
    {
     "data": {
      "image/png": "[encoded data removed]",
      "text/plain": [
       "<Figure size 432x288 with 1 Axes>"
      ]
     },
     "metadata": {},
     "output_type": "display_data"
    }
   ],
   "source": [
    "import matplotlib.pyplot as plt\n",
    "posi=0\n",
    "nega=0\n",
    "neut=0\n",
    "for i in range (0,len(cdata)):\n",
    "    get_val=cdata.Comp[i]\n",
    "    if(float(get_val)<(0)):\n",
    "        nega=nega+1\n",
    "    if(float(get_val>(0))):\n",
    "        posi=posi+1\n",
    "    if(float(get_val==(0))):\n",
    "        neut=neut+1\n",
    "posper=(posi/(len(cdata)))*100\n",
    "negper=(nega/(len(cdata)))*100\n",
    "neuper=(neut/(len(cdata)))*100\n",
    "print(\"% of positive tweets= \",posper)\n",
    "print(\"% of negative tweets= \",negper)\n",
    "print(\"% of neutral tweets= \",neuper)\n",
    "arr=np.asarray([posper,negper,neuper], dtype=int)\n",
    "plt.pie(arr,labels=['positive','negative','neutral'],autopct='%1.1f%%')\n",
    "plt.plot()"
   ]
  },
  {
   "cell_type": "code",
   "execution_count": 13,
   "metadata": {},
   "outputs": [],
   "source": [
    "#cdata = cdata.set_index('date')\n",
    "#cdata"
   ]
  },
  {
   "cell_type": "code",
   "execution_count": 14,
   "metadata": {},
   "outputs": [
    {
     "data": {
      "text/html": [
       "<div>\n",
       "<style scoped>\n",
       "    .dataframe tbody tr th:only-of-type {\n",
       "        vertical-align: middle;\n",
       "    }\n",
       "\n",
       "    .dataframe tbody tr th {\n",
       "        vertical-align: top;\n",
       "    }\n",
       "\n",
       "    .dataframe thead th {\n",
       "        text-align: right;\n",
       "    }\n",
       "</style>\n",
       "<table border=\"1\" class=\"dataframe\">\n",
       "  <thead>\n",
       "    <tr style=\"text-align: right;\">\n",
       "      <th></th>\n",
       "      <th>date</th>\n",
       "      <th>Comp</th>\n",
       "      <th>Negative</th>\n",
       "      <th>Neutral</th>\n",
       "      <th>Positive</th>\n",
       "    </tr>\n",
       "  </thead>\n",
       "  <tbody>\n",
       "    <tr>\n",
       "      <td>0</td>\n",
       "      <td>2019-11-12</td>\n",
       "      <td>0.743</td>\n",
       "      <td>0</td>\n",
       "      <td>0.73</td>\n",
       "      <td>0.27</td>\n",
       "    </tr>\n",
       "    <tr>\n",
       "      <td>1</td>\n",
       "      <td>2019-11-13</td>\n",
       "      <td>0</td>\n",
       "      <td>0</td>\n",
       "      <td>1</td>\n",
       "      <td>0</td>\n",
       "    </tr>\n",
       "    <tr>\n",
       "      <td>2</td>\n",
       "      <td>2019-11-14</td>\n",
       "      <td>0.8126</td>\n",
       "      <td>0.101</td>\n",
       "      <td>0.598</td>\n",
       "      <td>0.302</td>\n",
       "    </tr>\n",
       "    <tr>\n",
       "      <td>3</td>\n",
       "      <td>2019-11-15</td>\n",
       "      <td>0.0258</td>\n",
       "      <td>0.172</td>\n",
       "      <td>0.592</td>\n",
       "      <td>0.237</td>\n",
       "    </tr>\n",
       "    <tr>\n",
       "      <td>4</td>\n",
       "      <td>2019-11-16</td>\n",
       "      <td>0.872</td>\n",
       "      <td>0</td>\n",
       "      <td>0.476</td>\n",
       "      <td>0.524</td>\n",
       "    </tr>\n",
       "    <tr>\n",
       "      <td>...</td>\n",
       "      <td>...</td>\n",
       "      <td>...</td>\n",
       "      <td>...</td>\n",
       "      <td>...</td>\n",
       "      <td>...</td>\n",
       "    </tr>\n",
       "    <tr>\n",
       "      <td>177</td>\n",
       "      <td>2020-05-29</td>\n",
       "      <td>0.998</td>\n",
       "      <td>0.039</td>\n",
       "      <td>0.687</td>\n",
       "      <td>0.275</td>\n",
       "    </tr>\n",
       "    <tr>\n",
       "      <td>178</td>\n",
       "      <td>2020-05-30</td>\n",
       "      <td>0.9935</td>\n",
       "      <td>0.058</td>\n",
       "      <td>0.671</td>\n",
       "      <td>0.271</td>\n",
       "    </tr>\n",
       "    <tr>\n",
       "      <td>179</td>\n",
       "      <td>2020-05-31</td>\n",
       "      <td>0.9987</td>\n",
       "      <td>0.053</td>\n",
       "      <td>0.681</td>\n",
       "      <td>0.265</td>\n",
       "    </tr>\n",
       "    <tr>\n",
       "      <td>180</td>\n",
       "      <td>2020-06-01</td>\n",
       "      <td>0.999</td>\n",
       "      <td>0.061</td>\n",
       "      <td>0.743</td>\n",
       "      <td>0.196</td>\n",
       "    </tr>\n",
       "    <tr>\n",
       "      <td>181</td>\n",
       "      <td>2020-06-02</td>\n",
       "      <td>1</td>\n",
       "      <td>0.058</td>\n",
       "      <td>0.766</td>\n",
       "      <td>0.176</td>\n",
       "    </tr>\n",
       "  </tbody>\n",
       "</table>\n",
       "<p>182 rows × 5 columns</p>\n",
       "</div>"
      ],
      "text/plain": [
       "           date    Comp Negative Neutral Positive\n",
       "0    2019-11-12   0.743        0    0.73     0.27\n",
       "1    2019-11-13       0        0       1        0\n",
       "2    2019-11-14  0.8126    0.101   0.598    0.302\n",
       "3    2019-11-15  0.0258    0.172   0.592    0.237\n",
       "4    2019-11-16   0.872        0   0.476    0.524\n",
       "..          ...     ...      ...     ...      ...\n",
       "177  2020-05-29   0.998    0.039   0.687    0.275\n",
       "178  2020-05-30  0.9935    0.058   0.671    0.271\n",
       "179  2020-05-31  0.9987    0.053   0.681    0.265\n",
       "180  2020-06-01   0.999    0.061   0.743    0.196\n",
       "181  2020-06-02       1    0.058   0.766    0.176\n",
       "\n",
       "[182 rows x 5 columns]"
      ]
     },
     "execution_count": 14,
     "metadata": {},
     "output_type": "execute_result"
    }
   ],
   "source": [
    "df_=cdata[['date','Comp','Negative','Neutral','Positive']].copy()\n",
    "df_"
   ]
  },
  {
   "cell_type": "code",
   "execution_count": 15,
   "metadata": {},
   "outputs": [
    {
     "data": {
      "text/html": [
       "<div>\n",
       "<style scoped>\n",
       "    .dataframe tbody tr th:only-of-type {\n",
       "        vertical-align: middle;\n",
       "    }\n",
       "\n",
       "    .dataframe tbody tr th {\n",
       "        vertical-align: top;\n",
       "    }\n",
       "\n",
       "    .dataframe thead th {\n",
       "        text-align: right;\n",
       "    }\n",
       "</style>\n",
       "<table border=\"1\" class=\"dataframe\">\n",
       "  <thead>\n",
       "    <tr style=\"text-align: right;\">\n",
       "      <th></th>\n",
       "      <th>date</th>\n",
       "      <th>Comp</th>\n",
       "      <th>Negative</th>\n",
       "      <th>Neutral</th>\n",
       "      <th>Positive</th>\n",
       "    </tr>\n",
       "  </thead>\n",
       "  <tbody>\n",
       "    <tr>\n",
       "      <td>0</td>\n",
       "      <td>2019-11-12</td>\n",
       "      <td>0.743</td>\n",
       "      <td>0</td>\n",
       "      <td>0.73</td>\n",
       "      <td>0.27</td>\n",
       "    </tr>\n",
       "    <tr>\n",
       "      <td>1</td>\n",
       "      <td>2019-11-13</td>\n",
       "      <td>0</td>\n",
       "      <td>0</td>\n",
       "      <td>1</td>\n",
       "      <td>0</td>\n",
       "    </tr>\n",
       "    <tr>\n",
       "      <td>2</td>\n",
       "      <td>2019-11-14</td>\n",
       "      <td>0.8126</td>\n",
       "      <td>0.101</td>\n",
       "      <td>0.598</td>\n",
       "      <td>0.302</td>\n",
       "    </tr>\n",
       "    <tr>\n",
       "      <td>3</td>\n",
       "      <td>2019-11-15</td>\n",
       "      <td>0.0258</td>\n",
       "      <td>0.172</td>\n",
       "      <td>0.592</td>\n",
       "      <td>0.237</td>\n",
       "    </tr>\n",
       "    <tr>\n",
       "      <td>4</td>\n",
       "      <td>2019-11-16</td>\n",
       "      <td>0.872</td>\n",
       "      <td>0</td>\n",
       "      <td>0.476</td>\n",
       "      <td>0.524</td>\n",
       "    </tr>\n",
       "    <tr>\n",
       "      <td>...</td>\n",
       "      <td>...</td>\n",
       "      <td>...</td>\n",
       "      <td>...</td>\n",
       "      <td>...</td>\n",
       "      <td>...</td>\n",
       "    </tr>\n",
       "    <tr>\n",
       "      <td>177</td>\n",
       "      <td>2020-05-29</td>\n",
       "      <td>0.998</td>\n",
       "      <td>0.039</td>\n",
       "      <td>0.687</td>\n",
       "      <td>0.275</td>\n",
       "    </tr>\n",
       "    <tr>\n",
       "      <td>178</td>\n",
       "      <td>2020-05-30</td>\n",
       "      <td>0.9935</td>\n",
       "      <td>0.058</td>\n",
       "      <td>0.671</td>\n",
       "      <td>0.271</td>\n",
       "    </tr>\n",
       "    <tr>\n",
       "      <td>179</td>\n",
       "      <td>2020-05-31</td>\n",
       "      <td>0.9987</td>\n",
       "      <td>0.053</td>\n",
       "      <td>0.681</td>\n",
       "      <td>0.265</td>\n",
       "    </tr>\n",
       "    <tr>\n",
       "      <td>180</td>\n",
       "      <td>2020-06-01</td>\n",
       "      <td>0.999</td>\n",
       "      <td>0.061</td>\n",
       "      <td>0.743</td>\n",
       "      <td>0.196</td>\n",
       "    </tr>\n",
       "    <tr>\n",
       "      <td>181</td>\n",
       "      <td>2020-06-02</td>\n",
       "      <td>1</td>\n",
       "      <td>0.058</td>\n",
       "      <td>0.766</td>\n",
       "      <td>0.176</td>\n",
       "    </tr>\n",
       "  </tbody>\n",
       "</table>\n",
       "<p>182 rows × 5 columns</p>\n",
       "</div>"
      ],
      "text/plain": [
       "           date    Comp Negative Neutral Positive\n",
       "0    2019-11-12   0.743        0    0.73     0.27\n",
       "1    2019-11-13       0        0       1        0\n",
       "2    2019-11-14  0.8126    0.101   0.598    0.302\n",
       "3    2019-11-15  0.0258    0.172   0.592    0.237\n",
       "4    2019-11-16   0.872        0   0.476    0.524\n",
       "..          ...     ...      ...     ...      ...\n",
       "177  2020-05-29   0.998    0.039   0.687    0.275\n",
       "178  2020-05-30  0.9935    0.058   0.671    0.271\n",
       "179  2020-05-31  0.9987    0.053   0.681    0.265\n",
       "180  2020-06-01   0.999    0.061   0.743    0.196\n",
       "181  2020-06-02       1    0.058   0.766    0.176\n",
       "\n",
       "[182 rows x 5 columns]"
      ]
     },
     "execution_count": 15,
     "metadata": {},
     "output_type": "execute_result"
    }
   ],
   "source": [
    "df_"
   ]
  },
  {
   "cell_type": "code",
   "execution_count": 16,
   "metadata": {},
   "outputs": [],
   "source": [
    "train_start_index = 0\n",
    "train_end_index = 90\n",
    "test_start_index =91\n",
    "test_end_index =181\n",
    "train = df_.iloc[train_start_index : train_end_index]\n",
    "test  = df_.iloc[test_start_index : test_end_index]"
   ]
  },
  {
   "cell_type": "code",
   "execution_count": 17,
   "metadata": {},
   "outputs": [
    {
     "data": {
      "text/html": [
       "<div>\n",
       "<style scoped>\n",
       "    .dataframe tbody tr th:only-of-type {\n",
       "        vertical-align: middle;\n",
       "    }\n",
       "\n",
       "    .dataframe tbody tr th {\n",
       "        vertical-align: top;\n",
       "    }\n",
       "\n",
       "    .dataframe thead th {\n",
       "        text-align: right;\n",
       "    }\n",
       "</style>\n",
       "<table border=\"1\" class=\"dataframe\">\n",
       "  <thead>\n",
       "    <tr style=\"text-align: right;\">\n",
       "      <th></th>\n",
       "      <th>date</th>\n",
       "      <th>Comp</th>\n",
       "      <th>Negative</th>\n",
       "      <th>Neutral</th>\n",
       "      <th>Positive</th>\n",
       "    </tr>\n",
       "  </thead>\n",
       "  <tbody>\n",
       "    <tr>\n",
       "      <td>0</td>\n",
       "      <td>2019-11-12</td>\n",
       "      <td>0.743</td>\n",
       "      <td>0</td>\n",
       "      <td>0.73</td>\n",
       "      <td>0.27</td>\n",
       "    </tr>\n",
       "    <tr>\n",
       "      <td>1</td>\n",
       "      <td>2019-11-13</td>\n",
       "      <td>0</td>\n",
       "      <td>0</td>\n",
       "      <td>1</td>\n",
       "      <td>0</td>\n",
       "    </tr>\n",
       "    <tr>\n",
       "      <td>2</td>\n",
       "      <td>2019-11-14</td>\n",
       "      <td>0.8126</td>\n",
       "      <td>0.101</td>\n",
       "      <td>0.598</td>\n",
       "      <td>0.302</td>\n",
       "    </tr>\n",
       "    <tr>\n",
       "      <td>3</td>\n",
       "      <td>2019-11-15</td>\n",
       "      <td>0.0258</td>\n",
       "      <td>0.172</td>\n",
       "      <td>0.592</td>\n",
       "      <td>0.237</td>\n",
       "    </tr>\n",
       "    <tr>\n",
       "      <td>4</td>\n",
       "      <td>2019-11-16</td>\n",
       "      <td>0.872</td>\n",
       "      <td>0</td>\n",
       "      <td>0.476</td>\n",
       "      <td>0.524</td>\n",
       "    </tr>\n",
       "    <tr>\n",
       "      <td>...</td>\n",
       "      <td>...</td>\n",
       "      <td>...</td>\n",
       "      <td>...</td>\n",
       "      <td>...</td>\n",
       "      <td>...</td>\n",
       "    </tr>\n",
       "    <tr>\n",
       "      <td>85</td>\n",
       "      <td>2020-02-27</td>\n",
       "      <td>0.6705</td>\n",
       "      <td>0</td>\n",
       "      <td>0.792</td>\n",
       "      <td>0.208</td>\n",
       "    </tr>\n",
       "    <tr>\n",
       "      <td>86</td>\n",
       "      <td>2020-02-28</td>\n",
       "      <td>0.8074</td>\n",
       "      <td>0.061</td>\n",
       "      <td>0.716</td>\n",
       "      <td>0.223</td>\n",
       "    </tr>\n",
       "    <tr>\n",
       "      <td>87</td>\n",
       "      <td>2020-02-29</td>\n",
       "      <td>0.8402</td>\n",
       "      <td>0</td>\n",
       "      <td>0.727</td>\n",
       "      <td>0.273</td>\n",
       "    </tr>\n",
       "    <tr>\n",
       "      <td>88</td>\n",
       "      <td>2020-03-01</td>\n",
       "      <td>0.93</td>\n",
       "      <td>0.036</td>\n",
       "      <td>0.614</td>\n",
       "      <td>0.35</td>\n",
       "    </tr>\n",
       "    <tr>\n",
       "      <td>89</td>\n",
       "      <td>2020-03-02</td>\n",
       "      <td>0.9902</td>\n",
       "      <td>0.008</td>\n",
       "      <td>0.803</td>\n",
       "      <td>0.189</td>\n",
       "    </tr>\n",
       "  </tbody>\n",
       "</table>\n",
       "<p>90 rows × 5 columns</p>\n",
       "</div>"
      ],
      "text/plain": [
       "          date    Comp Negative Neutral Positive\n",
       "0   2019-11-12   0.743        0    0.73     0.27\n",
       "1   2019-11-13       0        0       1        0\n",
       "2   2019-11-14  0.8126    0.101   0.598    0.302\n",
       "3   2019-11-15  0.0258    0.172   0.592    0.237\n",
       "4   2019-11-16   0.872        0   0.476    0.524\n",
       "..         ...     ...      ...     ...      ...\n",
       "85  2020-02-27  0.6705        0   0.792    0.208\n",
       "86  2020-02-28  0.8074    0.061   0.716    0.223\n",
       "87  2020-02-29  0.8402        0   0.727    0.273\n",
       "88  2020-03-01    0.93    0.036   0.614     0.35\n",
       "89  2020-03-02  0.9902    0.008   0.803    0.189\n",
       "\n",
       "[90 rows x 5 columns]"
      ]
     },
     "execution_count": 17,
     "metadata": {},
     "output_type": "execute_result"
    }
   ],
   "source": [
    "train"
   ]
  },
  {
   "cell_type": "code",
   "execution_count": 18,
   "metadata": {},
   "outputs": [
    {
     "data": {
      "text/html": [
       "<div>\n",
       "<style scoped>\n",
       "    .dataframe tbody tr th:only-of-type {\n",
       "        vertical-align: middle;\n",
       "    }\n",
       "\n",
       "    .dataframe tbody tr th {\n",
       "        vertical-align: top;\n",
       "    }\n",
       "\n",
       "    .dataframe thead th {\n",
       "        text-align: right;\n",
       "    }\n",
       "</style>\n",
       "<table border=\"1\" class=\"dataframe\">\n",
       "  <thead>\n",
       "    <tr style=\"text-align: right;\">\n",
       "      <th></th>\n",
       "      <th>date</th>\n",
       "      <th>Comp</th>\n",
       "      <th>Negative</th>\n",
       "      <th>Neutral</th>\n",
       "      <th>Positive</th>\n",
       "    </tr>\n",
       "  </thead>\n",
       "  <tbody>\n",
       "    <tr>\n",
       "      <td>91</td>\n",
       "      <td>2020-03-04</td>\n",
       "      <td>0.979</td>\n",
       "      <td>0</td>\n",
       "      <td>0.727</td>\n",
       "      <td>0.273</td>\n",
       "    </tr>\n",
       "    <tr>\n",
       "      <td>92</td>\n",
       "      <td>2020-03-05</td>\n",
       "      <td>0.7501</td>\n",
       "      <td>0.06</td>\n",
       "      <td>0.727</td>\n",
       "      <td>0.213</td>\n",
       "    </tr>\n",
       "    <tr>\n",
       "      <td>93</td>\n",
       "      <td>2020-03-06</td>\n",
       "      <td>0.9818</td>\n",
       "      <td>0.099</td>\n",
       "      <td>0.573</td>\n",
       "      <td>0.328</td>\n",
       "    </tr>\n",
       "    <tr>\n",
       "      <td>94</td>\n",
       "      <td>2020-03-07</td>\n",
       "      <td>0.8834</td>\n",
       "      <td>0.122</td>\n",
       "      <td>0.555</td>\n",
       "      <td>0.324</td>\n",
       "    </tr>\n",
       "    <tr>\n",
       "      <td>95</td>\n",
       "      <td>2020-03-08</td>\n",
       "      <td>0.8438</td>\n",
       "      <td>0.177</td>\n",
       "      <td>0.529</td>\n",
       "      <td>0.294</td>\n",
       "    </tr>\n",
       "    <tr>\n",
       "      <td>...</td>\n",
       "      <td>...</td>\n",
       "      <td>...</td>\n",
       "      <td>...</td>\n",
       "      <td>...</td>\n",
       "      <td>...</td>\n",
       "    </tr>\n",
       "    <tr>\n",
       "      <td>176</td>\n",
       "      <td>2020-05-28</td>\n",
       "      <td>0.9881</td>\n",
       "      <td>0</td>\n",
       "      <td>0.726</td>\n",
       "      <td>0.274</td>\n",
       "    </tr>\n",
       "    <tr>\n",
       "      <td>177</td>\n",
       "      <td>2020-05-29</td>\n",
       "      <td>0.998</td>\n",
       "      <td>0.039</td>\n",
       "      <td>0.687</td>\n",
       "      <td>0.275</td>\n",
       "    </tr>\n",
       "    <tr>\n",
       "      <td>178</td>\n",
       "      <td>2020-05-30</td>\n",
       "      <td>0.9935</td>\n",
       "      <td>0.058</td>\n",
       "      <td>0.671</td>\n",
       "      <td>0.271</td>\n",
       "    </tr>\n",
       "    <tr>\n",
       "      <td>179</td>\n",
       "      <td>2020-05-31</td>\n",
       "      <td>0.9987</td>\n",
       "      <td>0.053</td>\n",
       "      <td>0.681</td>\n",
       "      <td>0.265</td>\n",
       "    </tr>\n",
       "    <tr>\n",
       "      <td>180</td>\n",
       "      <td>2020-06-01</td>\n",
       "      <td>0.999</td>\n",
       "      <td>0.061</td>\n",
       "      <td>0.743</td>\n",
       "      <td>0.196</td>\n",
       "    </tr>\n",
       "  </tbody>\n",
       "</table>\n",
       "<p>90 rows × 5 columns</p>\n",
       "</div>"
      ],
      "text/plain": [
       "           date    Comp Negative Neutral Positive\n",
       "91   2020-03-04   0.979        0   0.727    0.273\n",
       "92   2020-03-05  0.7501     0.06   0.727    0.213\n",
       "93   2020-03-06  0.9818    0.099   0.573    0.328\n",
       "94   2020-03-07  0.8834    0.122   0.555    0.324\n",
       "95   2020-03-08  0.8438    0.177   0.529    0.294\n",
       "..          ...     ...      ...     ...      ...\n",
       "176  2020-05-28  0.9881        0   0.726    0.274\n",
       "177  2020-05-29   0.998    0.039   0.687    0.275\n",
       "178  2020-05-30  0.9935    0.058   0.671    0.271\n",
       "179  2020-05-31  0.9987    0.053   0.681    0.265\n",
       "180  2020-06-01   0.999    0.061   0.743    0.196\n",
       "\n",
       "[90 rows x 5 columns]"
      ]
     },
     "execution_count": 18,
     "metadata": {},
     "output_type": "execute_result"
    }
   ],
   "source": [
    "test"
   ]
  },
  {
   "cell_type": "code",
   "execution_count": 19,
   "metadata": {},
   "outputs": [],
   "source": [
    "sentiment_score_list = []\n",
    "for date, row in train.T.iteritems():\n",
    "    sentiment_score = np.asarray([df_.loc[date, 'Negative'],df_.loc[date, 'Positive']])\n",
    "    sentiment_score_list.append(sentiment_score)\n",
    "numpy_df_train = np.asarray(sentiment_score_list)"
   ]
  },
  {
   "cell_type": "code",
   "execution_count": 20,
   "metadata": {},
   "outputs": [
    {
     "name": "stdout",
     "output_type": "stream",
     "text": [
      "[[0.    0.27 ]\n",
      " [0.    0.   ]\n",
      " [0.101 0.302]\n",
      " [0.172 0.237]\n",
      " [0.    0.524]\n",
      " [0.    0.   ]\n",
      " [0.    0.   ]\n",
      " [0.    0.143]\n",
      " [0.    0.527]\n",
      " [0.    0.393]\n",
      " [0.06  0.255]\n",
      " [0.    0.517]\n",
      " [0.    0.209]\n",
      " [0.474 0.117]\n",
      " [0.    0.208]\n",
      " [0.    0.704]\n",
      " [0.    0.225]\n",
      " [0.855 0.   ]\n",
      " [0.169 0.115]\n",
      " [0.    0.333]\n",
      " [0.    0.634]\n",
      " [0.    0.463]\n",
      " [0.    0.363]\n",
      " [0.    0.   ]\n",
      " [0.    0.474]\n",
      " [0.221 0.414]\n",
      " [0.    0.333]\n",
      " [0.041 0.313]\n",
      " [0.    0.4  ]\n",
      " [0.    0.22 ]\n",
      " [0.    0.   ]\n",
      " [0.    0.289]\n",
      " [0.    0.   ]\n",
      " [0.    0.759]\n",
      " [0.    0.   ]\n",
      " [0.    0.   ]\n",
      " [0.    0.   ]\n",
      " [0.    0.098]\n",
      " [0.169 0.073]\n",
      " [0.    0.369]\n",
      " [0.    0.2  ]\n",
      " [0.13  0.193]\n",
      " [0.112 0.199]\n",
      " [0.    0.265]\n",
      " [0.101 0.261]\n",
      " [0.103 0.297]\n",
      " [0.    0.219]\n",
      " [0.    0.393]\n",
      " [0.    0.355]\n",
      " [0.    0.452]\n",
      " [0.    0.399]\n",
      " [0.04  0.331]\n",
      " [0.    0.274]\n",
      " [0.    0.864]\n",
      " [0.    0.192]\n",
      " [0.082 0.297]\n",
      " [0.    0.543]\n",
      " [0.    0.126]\n",
      " [0.021 0.311]\n",
      " [0.    0.383]\n",
      " [0.087 0.271]\n",
      " [0.    0.   ]\n",
      " [0.    0.438]\n",
      " [0.    0.432]\n",
      " [0.    0.299]\n",
      " [0.    0.212]\n",
      " [0.    0.388]\n",
      " [0.    0.557]\n",
      " [0.02  0.386]\n",
      " [0.    0.   ]\n",
      " [0.    0.192]\n",
      " [0.    0.309]\n",
      " [0.202 0.251]\n",
      " [0.    0.211]\n",
      " [0.    0.   ]\n",
      " [0.    0.179]\n",
      " [0.018 0.416]\n",
      " [0.    0.31 ]\n",
      " [0.    0.3  ]\n",
      " [0.    0.251]\n",
      " [0.    0.234]\n",
      " [0.042 0.368]\n",
      " [0.035 0.186]\n",
      " [0.064 0.335]\n",
      " [0.027 0.397]\n",
      " [0.    0.208]\n",
      " [0.061 0.223]\n",
      " [0.    0.273]\n",
      " [0.036 0.35 ]\n",
      " [0.008 0.189]]\n"
     ]
    }
   ],
   "source": [
    "print(numpy_df_train)"
   ]
  },
  {
   "cell_type": "code",
   "execution_count": 21,
   "metadata": {},
   "outputs": [],
   "source": [
    "sentiment_score_list = []\n",
    "for date, row in test.T.iteritems():\n",
    "    sentiment_score = np.asarray([df_.loc[date, 'Negative'],df_.loc[date, 'Positive']])\n",
    "    sentiment_score_list.append(sentiment_score)\n",
    "numpy_df_test = np.asarray(sentiment_score_list)"
   ]
  },
  {
   "cell_type": "code",
   "execution_count": 22,
   "metadata": {},
   "outputs": [
    {
     "name": "stdout",
     "output_type": "stream",
     "text": [
      "[[0.    0.273]\n",
      " [0.06  0.213]\n",
      " [0.099 0.328]\n",
      " [0.122 0.324]\n",
      " [0.177 0.294]\n",
      " [0.    0.   ]\n",
      " [0.131 0.133]\n",
      " [0.    0.381]\n",
      " [0.    0.578]\n",
      " [0.    0.527]\n",
      " [0.    0.352]\n",
      " [0.208 0.305]\n",
      " [0.044 0.212]\n",
      " [0.076 0.353]\n",
      " [0.033 0.382]\n",
      " [0.024 0.383]\n",
      " [0.    0.27 ]\n",
      " [0.049 0.277]\n",
      " [0.083 0.279]\n",
      " [0.018 0.27 ]\n",
      " [0.    0.224]\n",
      " [0.04  0.279]\n",
      " [0.026 0.321]\n",
      " [0.08  0.351]\n",
      " [0.027 0.237]\n",
      " [0.    0.178]\n",
      " [0.035 0.319]\n",
      " [0.01  0.407]\n",
      " [0.02  0.297]\n",
      " [0.039 0.336]\n",
      " [0.018 0.247]\n",
      " [0.024 0.332]\n",
      " [0.011 0.36 ]\n",
      " [0.033 0.482]\n",
      " [0.079 0.329]\n",
      " [0.027 0.163]\n",
      " [0.056 0.254]\n",
      " [0.    0.374]\n",
      " [0.017 0.287]\n",
      " [0.026 0.224]\n",
      " [0.117 0.297]\n",
      " [0.044 0.387]\n",
      " [0.085 0.233]\n",
      " [0.062 0.31 ]\n",
      " [0.009 0.293]\n",
      " [0.012 0.276]\n",
      " [0.018 0.238]\n",
      " [0.053 0.333]\n",
      " [0.026 0.325]\n",
      " [0.096 0.233]\n",
      " [0.059 0.223]\n",
      " [0.065 0.342]\n",
      " [0.057 0.204]\n",
      " [0.035 0.199]\n",
      " [0.05  0.334]\n",
      " [0.007 0.342]\n",
      " [0.028 0.28 ]\n",
      " [0.004 0.285]\n",
      " [0.025 0.286]\n",
      " [0.035 0.277]\n",
      " [0.041 0.356]\n",
      " [0.036 0.189]\n",
      " [0.046 0.324]\n",
      " [0.041 0.252]\n",
      " [0.047 0.27 ]\n",
      " [0.042 0.282]\n",
      " [0.026 0.422]\n",
      " [0.061 0.35 ]\n",
      " [0.008 0.319]\n",
      " [0.014 0.233]\n",
      " [0.055 0.237]\n",
      " [0.082 0.231]\n",
      " [0.088 0.256]\n",
      " [0.06  0.257]\n",
      " [0.052 0.307]\n",
      " [0.037 0.307]\n",
      " [0.023 0.311]\n",
      " [0.023 0.321]\n",
      " [0.043 0.383]\n",
      " [0.047 0.329]\n",
      " [0.053 0.381]\n",
      " [0.04  0.259]\n",
      " [0.031 0.337]\n",
      " [0.038 0.265]\n",
      " [0.032 0.286]\n",
      " [0.    0.274]\n",
      " [0.039 0.275]\n",
      " [0.058 0.271]\n",
      " [0.053 0.265]\n",
      " [0.061 0.196]]\n"
     ]
    }
   ],
   "source": [
    "print(numpy_df_test)"
   ]
  },
  {
   "cell_type": "code",
   "execution_count": 23,
   "metadata": {},
   "outputs": [
    {
     "name": "stdout",
     "output_type": "stream",
     "text": [
      "      Comp\n",
      "0    0.743\n",
      "1        0\n",
      "2   0.8126\n",
      "3   0.0258\n",
      "4    0.872\n",
      "..     ...\n",
      "85  0.6705\n",
      "86  0.8074\n",
      "87  0.8402\n",
      "88    0.93\n",
      "89  0.9902\n",
      "\n",
      "[90 rows x 1 columns]\n"
     ]
    }
   ],
   "source": [
    "y_train = pd.DataFrame(train['Comp'])\n",
    "y_test = pd.DataFrame(test['Comp'])\n",
    "print(y_train)"
   ]
  },
  {
   "cell_type": "code",
   "execution_count": 24,
   "metadata": {},
   "outputs": [
    {
     "name": "stderr",
     "output_type": "stream",
     "text": [
      "C:\\Users\\Abhisha Burande\\Anaconda3\\lib\\site-packages\\sklearn\\ensemble\\forest.py:245: FutureWarning: The default value of n_estimators will change from 10 in version 0.20 to 100 in 0.22.\n",
      "  \"10 in version 0.20 to 100 in 0.22.\", FutureWarning)\n",
      "C:\\Users\\Abhisha Burande\\Anaconda3\\lib\\site-packages\\ipykernel_launcher.py:7: DataConversionWarning: A column-vector y was passed when a 1d array was expected. Please change the shape of y to (n_samples,), for example using ravel().\n",
      "  import sys\n"
     ]
    },
    {
     "data": {
      "text/plain": [
       "RandomForestRegressor(bootstrap=True, criterion='mse', max_depth=None,\n",
       "                      max_features='auto', max_leaf_nodes=None,\n",
       "                      min_impurity_decrease=0.0, min_impurity_split=None,\n",
       "                      min_samples_leaf=1, min_samples_split=2,\n",
       "                      min_weight_fraction_leaf=0.0, n_estimators=10,\n",
       "                      n_jobs=None, oob_score=False, random_state=None,\n",
       "                      verbose=0, warm_start=False)"
      ]
     },
     "execution_count": 24,
     "metadata": {},
     "output_type": "execute_result"
    }
   ],
   "source": [
    "from treeinterpreter import treeinterpreter as ti\n",
    "from sklearn.tree import DecisionTreeRegressor\n",
    "from sklearn.ensemble import RandomForestRegressor\n",
    "from sklearn.metrics import classification_report,confusion_matrix\n",
    "\n",
    "rf = RandomForestRegressor()\n",
    "rf.fit(numpy_df_train, y_train)"
   ]
  },
  {
   "cell_type": "code",
   "execution_count": 25,
   "metadata": {},
   "outputs": [],
   "source": [
    "prediction_train, bias, contributions = ti.predict(rf, numpy_df_train)"
   ]
  },
  {
   "cell_type": "code",
   "execution_count": 26,
   "metadata": {},
   "outputs": [
    {
     "name": "stdout",
     "output_type": "stream",
     "text": [
      "[[ 0.78525   ]\n",
      " [ 0.        ]\n",
      " [ 0.88806   ]\n",
      " [ 0.13302   ]\n",
      " [ 0.91952   ]\n",
      " [ 0.        ]\n",
      " [ 0.        ]\n",
      " [ 0.2805    ]\n",
      " [ 0.9584    ]\n",
      " [ 0.82273667]\n",
      " [ 0.85541   ]\n",
      " [ 0.94552   ]\n",
      " [ 0.57481   ]\n",
      " [-0.52844   ]\n",
      " [ 0.62221   ]\n",
      " [ 0.88435   ]\n",
      " [ 0.7648    ]\n",
      " [-0.48674   ]\n",
      " [-0.31058   ]\n",
      " [ 0.6922    ]\n",
      " [ 0.7668    ]\n",
      " [ 0.67888   ]\n",
      " [ 0.75274   ]\n",
      " [ 0.        ]\n",
      " [ 0.56374   ]\n",
      " [ 0.64364   ]\n",
      " [ 0.6922    ]\n",
      " [ 0.95317   ]\n",
      " [ 0.78743   ]\n",
      " [ 0.76275   ]\n",
      " [ 0.        ]\n",
      " [ 0.9177    ]\n",
      " [ 0.        ]\n",
      " [ 0.8009    ]\n",
      " [ 0.        ]\n",
      " [ 0.        ]\n",
      " [ 0.        ]\n",
      " [-0.05398   ]\n",
      " [-0.51232   ]\n",
      " [ 0.80834   ]\n",
      " [ 0.3764    ]\n",
      " [ 0.43005   ]\n",
      " [ 0.47893   ]\n",
      " [ 0.84302   ]\n",
      " [ 0.89846   ]\n",
      " [ 0.91607   ]\n",
      " [ 0.61461   ]\n",
      " [ 0.82273667]\n",
      " [ 0.73635   ]\n",
      " [ 0.6242    ]\n",
      " [ 0.90248   ]\n",
      " [ 0.87263   ]\n",
      " [ 0.82599   ]\n",
      " [ 0.8669    ]\n",
      " [ 0.50723917]\n",
      " [ 0.87835   ]\n",
      " [ 0.95684   ]\n",
      " [ 0.43466   ]\n",
      " [ 0.95237   ]\n",
      " [ 0.85798   ]\n",
      " [ 0.91226   ]\n",
      " [ 0.        ]\n",
      " [ 0.93852   ]\n",
      " [ 0.94988   ]\n",
      " [ 0.98206   ]\n",
      " [ 0.80692   ]\n",
      " [ 0.64010667]\n",
      " [ 0.96392   ]\n",
      " [ 0.97013   ]\n",
      " [ 0.        ]\n",
      " [ 0.50723917]\n",
      " [ 0.79284   ]\n",
      " [ 0.19317   ]\n",
      " [ 0.8084    ]\n",
      " [ 0.        ]\n",
      " [ 0.7455075 ]\n",
      " [ 0.97471   ]\n",
      " [ 0.4512    ]\n",
      " [ 0.98102   ]\n",
      " [ 0.75238   ]\n",
      " [ 0.76192   ]\n",
      " [ 0.96012   ]\n",
      " [ 0.84501   ]\n",
      " [ 0.9565    ]\n",
      " [ 0.96641   ]\n",
      " [ 0.62221   ]\n",
      " [ 0.83523   ]\n",
      " [ 0.83123   ]\n",
      " [ 0.94069   ]\n",
      " [ 0.74641   ]]\n"
     ]
    }
   ],
   "source": [
    "print(prediction_train)"
   ]
  },
  {
   "cell_type": "code",
   "execution_count": 27,
   "metadata": {},
   "outputs": [],
   "source": [
    "idx_train=y_train.index\n",
    "predictions_df_1 = pd.DataFrame(data=prediction_train[0:],index = idx_train,columns=['Comp'])"
   ]
  },
  {
   "cell_type": "code",
   "execution_count": 28,
   "metadata": {},
   "outputs": [
    {
     "data": {
      "text/html": [
       "<div>\n",
       "<style scoped>\n",
       "    .dataframe tbody tr th:only-of-type {\n",
       "        vertical-align: middle;\n",
       "    }\n",
       "\n",
       "    .dataframe tbody tr th {\n",
       "        vertical-align: top;\n",
       "    }\n",
       "\n",
       "    .dataframe thead th {\n",
       "        text-align: right;\n",
       "    }\n",
       "</style>\n",
       "<table border=\"1\" class=\"dataframe\">\n",
       "  <thead>\n",
       "    <tr style=\"text-align: right;\">\n",
       "      <th></th>\n",
       "      <th>Comp</th>\n",
       "    </tr>\n",
       "  </thead>\n",
       "  <tbody>\n",
       "    <tr>\n",
       "      <td>0</td>\n",
       "      <td>0.78525</td>\n",
       "    </tr>\n",
       "    <tr>\n",
       "      <td>1</td>\n",
       "      <td>0.00000</td>\n",
       "    </tr>\n",
       "    <tr>\n",
       "      <td>2</td>\n",
       "      <td>0.88806</td>\n",
       "    </tr>\n",
       "    <tr>\n",
       "      <td>3</td>\n",
       "      <td>0.13302</td>\n",
       "    </tr>\n",
       "    <tr>\n",
       "      <td>4</td>\n",
       "      <td>0.91952</td>\n",
       "    </tr>\n",
       "    <tr>\n",
       "      <td>...</td>\n",
       "      <td>...</td>\n",
       "    </tr>\n",
       "    <tr>\n",
       "      <td>85</td>\n",
       "      <td>0.62221</td>\n",
       "    </tr>\n",
       "    <tr>\n",
       "      <td>86</td>\n",
       "      <td>0.83523</td>\n",
       "    </tr>\n",
       "    <tr>\n",
       "      <td>87</td>\n",
       "      <td>0.83123</td>\n",
       "    </tr>\n",
       "    <tr>\n",
       "      <td>88</td>\n",
       "      <td>0.94069</td>\n",
       "    </tr>\n",
       "    <tr>\n",
       "      <td>89</td>\n",
       "      <td>0.74641</td>\n",
       "    </tr>\n",
       "  </tbody>\n",
       "</table>\n",
       "<p>90 rows × 1 columns</p>\n",
       "</div>"
      ],
      "text/plain": [
       "       Comp\n",
       "0   0.78525\n",
       "1   0.00000\n",
       "2   0.88806\n",
       "3   0.13302\n",
       "4   0.91952\n",
       "..      ...\n",
       "85  0.62221\n",
       "86  0.83523\n",
       "87  0.83123\n",
       "88  0.94069\n",
       "89  0.74641\n",
       "\n",
       "[90 rows x 1 columns]"
      ]
     },
     "execution_count": 28,
     "metadata": {},
     "output_type": "execute_result"
    }
   ],
   "source": [
    "predictions_df_1"
   ]
  },
  {
   "cell_type": "code",
   "execution_count": 29,
   "metadata": {},
   "outputs": [
    {
     "data": {
      "text/plain": [
       "(array([ 0., 10., 20., 30., 40., 50., 60., 70., 80., 90.]),\n",
       " <a list of 10 Text major ticklabel objects>)"
      ]
     },
     "execution_count": 29,
     "metadata": {},
     "output_type": "execute_result"
    },
    {
     "data": {
      "image/png": "[encoded data removed]",
      "text/plain": [
       "<Figure size 432x288 with 1 Axes>"
      ]
     },
     "metadata": {
      "needs_background": "light"
     },
     "output_type": "display_data"
    }
   ],
   "source": [
    "ax = predictions_df_1.rename(columns={\"Comp\": \"predicted_price\"}).plot(title='Random Forest predicted sentiment')#predicted value\n",
    "ax.set_xlabel(\"Indexes\")\n",
    "ax.set_ylabel(\"Sentiment Score\")\n",
    "fig = y_train.rename(columns={\"Comp\": \"actual_price\"}).plot(ax = ax).get_figure()#actual value\n",
    "plt.xticks(rotation=45)"
   ]
  },
  {
   "cell_type": "code",
   "execution_count": 30,
   "metadata": {},
   "outputs": [],
   "source": [
    "prediction_test, bias, contributions = ti.predict(rf, numpy_df_test)"
   ]
  },
  {
   "cell_type": "code",
   "execution_count": 31,
   "metadata": {},
   "outputs": [
    {
     "name": "stdout",
     "output_type": "stream",
     "text": [
      "[[0.83123  ]\n",
      " [0.75537  ]\n",
      " [0.85496  ]\n",
      " [0.63392  ]\n",
      " [0.21269  ]\n",
      " [0.       ]\n",
      " [0.21493  ]\n",
      " [0.85798  ]\n",
      " [0.96392  ]\n",
      " [0.9584   ]\n",
      " [0.73635  ]\n",
      " [0.27284  ]\n",
      " [0.84363  ]\n",
      " [0.93523  ]\n",
      " [0.95535  ]\n",
      " [0.96537  ]\n",
      " [0.78525  ]\n",
      " [0.91263  ]\n",
      " [0.91446  ]\n",
      " [0.90431  ]\n",
      " [0.7648   ]\n",
      " [0.90263  ]\n",
      " [0.94984  ]\n",
      " [0.93394  ]\n",
      " [0.84451  ]\n",
      " [0.7455075]\n",
      " [0.93841  ]\n",
      " [0.87704  ]\n",
      " [0.90148  ]\n",
      " [0.93586  ]\n",
      " [0.87493  ]\n",
      " [0.89043  ]\n",
      " [0.9705   ]\n",
      " [0.85142  ]\n",
      " [0.86437  ]\n",
      " [0.87147  ]\n",
      " [0.85541  ]\n",
      " [0.80519  ]\n",
      " [0.89344  ]\n",
      " [0.85803  ]\n",
      " [0.59465  ]\n",
      " [0.95984  ]\n",
      " [0.80745  ]\n",
      " [0.87866  ]\n",
      " [0.92542  ]\n",
      " [0.91272  ]\n",
      " [0.86171  ]\n",
      " [0.89562  ]\n",
      " [0.89147  ]\n",
      " [0.82628  ]\n",
      " [0.83523  ]\n",
      " [0.9565   ]\n",
      " [0.6601   ]\n",
      " [0.69967  ]\n",
      " [0.8939   ]\n",
      " [0.7379   ]\n",
      " [0.90961  ]\n",
      " [0.8709   ]\n",
      " [0.89033  ]\n",
      " [0.90394  ]\n",
      " [0.95105  ]\n",
      " [0.85361  ]\n",
      " [0.88784  ]\n",
      " [0.88347  ]\n",
      " [0.91043  ]\n",
      " [0.90686  ]\n",
      " [0.96879  ]\n",
      " [0.95347  ]\n",
      " [0.59216  ]\n",
      " [0.86171  ]\n",
      " [0.80087  ]\n",
      " [0.80745  ]\n",
      " [0.87764  ]\n",
      " [0.87045  ]\n",
      " [0.93517  ]\n",
      " [0.92041  ]\n",
      " [0.95237  ]\n",
      " [0.9488   ]\n",
      " [0.95984  ]\n",
      " [0.88956  ]\n",
      " [0.96033  ]\n",
      " [0.86946  ]\n",
      " [0.94982  ]\n",
      " [0.8738   ]\n",
      " [0.88466  ]\n",
      " [0.82599  ]\n",
      " [0.90263  ]\n",
      " [0.91165  ]\n",
      " [0.88415  ]\n",
      " [0.69707  ]]\n"
     ]
    }
   ],
   "source": [
    "print(prediction_test)"
   ]
  },
  {
   "cell_type": "code",
   "execution_count": 32,
   "metadata": {},
   "outputs": [],
   "source": [
    "idx=y_test.index\n",
    "predictions_df_ = pd.DataFrame(data=prediction_test[0:],index = idx,columns=['Comp'])"
   ]
  },
  {
   "cell_type": "code",
   "execution_count": 33,
   "metadata": {},
   "outputs": [
    {
     "data": {
      "text/html": [
       "<div>\n",
       "<style scoped>\n",
       "    .dataframe tbody tr th:only-of-type {\n",
       "        vertical-align: middle;\n",
       "    }\n",
       "\n",
       "    .dataframe tbody tr th {\n",
       "        vertical-align: top;\n",
       "    }\n",
       "\n",
       "    .dataframe thead th {\n",
       "        text-align: right;\n",
       "    }\n",
       "</style>\n",
       "<table border=\"1\" class=\"dataframe\">\n",
       "  <thead>\n",
       "    <tr style=\"text-align: right;\">\n",
       "      <th></th>\n",
       "      <th>Comp</th>\n",
       "    </tr>\n",
       "  </thead>\n",
       "  <tbody>\n",
       "    <tr>\n",
       "      <td>91</td>\n",
       "      <td>0.83123</td>\n",
       "    </tr>\n",
       "    <tr>\n",
       "      <td>92</td>\n",
       "      <td>0.75537</td>\n",
       "    </tr>\n",
       "    <tr>\n",
       "      <td>93</td>\n",
       "      <td>0.85496</td>\n",
       "    </tr>\n",
       "    <tr>\n",
       "      <td>94</td>\n",
       "      <td>0.63392</td>\n",
       "    </tr>\n",
       "    <tr>\n",
       "      <td>95</td>\n",
       "      <td>0.21269</td>\n",
       "    </tr>\n",
       "    <tr>\n",
       "      <td>...</td>\n",
       "      <td>...</td>\n",
       "    </tr>\n",
       "    <tr>\n",
       "      <td>176</td>\n",
       "      <td>0.82599</td>\n",
       "    </tr>\n",
       "    <tr>\n",
       "      <td>177</td>\n",
       "      <td>0.90263</td>\n",
       "    </tr>\n",
       "    <tr>\n",
       "      <td>178</td>\n",
       "      <td>0.91165</td>\n",
       "    </tr>\n",
       "    <tr>\n",
       "      <td>179</td>\n",
       "      <td>0.88415</td>\n",
       "    </tr>\n",
       "    <tr>\n",
       "      <td>180</td>\n",
       "      <td>0.69707</td>\n",
       "    </tr>\n",
       "  </tbody>\n",
       "</table>\n",
       "<p>90 rows × 1 columns</p>\n",
       "</div>"
      ],
      "text/plain": [
       "        Comp\n",
       "91   0.83123\n",
       "92   0.75537\n",
       "93   0.85496\n",
       "94   0.63392\n",
       "95   0.21269\n",
       "..       ...\n",
       "176  0.82599\n",
       "177  0.90263\n",
       "178  0.91165\n",
       "179  0.88415\n",
       "180  0.69707\n",
       "\n",
       "[90 rows x 1 columns]"
      ]
     },
     "execution_count": 33,
     "metadata": {},
     "output_type": "execute_result"
    }
   ],
   "source": [
    "predictions_df_"
   ]
  },
  {
   "cell_type": "code",
   "execution_count": 34,
   "metadata": {},
   "outputs": [
    {
     "data": {
      "text/plain": [
       "(array([ 90., 100., 110., 120., 130., 140., 150., 160., 170., 180.]),\n",
       " <a list of 10 Text major ticklabel objects>)"
      ]
     },
     "execution_count": 34,
     "metadata": {},
     "output_type": "execute_result"
    },
    {
     "data": {
      "image/png": "[encoded data removed]",
      "text/plain": [
       "<Figure size 432x288 with 1 Axes>"
      ]
     },
     "metadata": {
      "needs_background": "light"
     },
     "output_type": "display_data"
    }
   ],
   "source": [
    "ax = predictions_df_.rename(columns={\"Comp\": \"predicted\"}).plot(title='Random Forest predicted sentiment')#predicted value\n",
    "ax.set_xlabel(\"Indexes\")\n",
    "ax.set_ylabel(\"Sentiment Score\")\n",
    "fig = y_test.rename(columns={\"Comp\": \"actual\"}).plot(ax = ax).get_figure()#actual value\n",
    "plt.xticks(rotation=45)"
   ]
  },
  {
   "cell_type": "code",
   "execution_count": 35,
   "metadata": {},
   "outputs": [
    {
     "name": "stdout",
     "output_type": "stream",
     "text": [
      "Metrics for Random Forest Trained on Expanded Data\n",
      "Mean absolute error: Comp    0.12\n",
      "dtype: float64 degrees.\n"
     ]
    }
   ],
   "source": [
    "errors = abs(prediction_test- y_test)\n",
    "print('Metrics for Random Forest Trained on Expanded Data')\n",
    "print('Mean absolute error:', round(np.mean(errors), 2), 'degrees.')\n"
   ]
  },
  {
   "cell_type": "code",
   "execution_count": 36,
   "metadata": {},
   "outputs": [
    {
     "name": "stderr",
     "output_type": "stream",
     "text": [
      "INFO:fbprophet:Disabling yearly seasonality. Run prophet with yearly_seasonality=True to override this.\n",
      "INFO:fbprophet:Disabling daily seasonality. Run prophet with daily_seasonality=True to override this.\n"
     ]
    },
    {
     "data": {
      "text/plain": [
       "<fbprophet.forecaster.Prophet at 0x2ab919fd7f0>"
      ]
     },
     "execution_count": 36,
     "metadata": {},
     "output_type": "execute_result"
    }
   ],
   "source": [
    "import fbprophet\n",
    "test = test.rename(columns={'date': 'ds', 'Comp': 'y'})\n",
    "fitness_prophet = fbprophet.Prophet(changepoint_prior_scale=0.15)\n",
    "fitness_prophet.fit(test)"
   ]
  },
  {
   "cell_type": "code",
   "execution_count": 37,
   "metadata": {},
   "outputs": [],
   "source": [
    "fitness_forecast = fitness_prophet.make_future_dataframe(periods=90, freq='D')\n",
    "# Make predictions\n",
    "fitness_forecast = fitness_prophet.predict(fitness_forecast)"
   ]
  },
  {
   "cell_type": "code",
   "execution_count": 38,
   "metadata": {},
   "outputs": [
    {
     "data": {
      "image/png": "[encoded data removed]",
      "text/plain": [
       "<Figure size 720x432 with 1 Axes>"
      ]
     },
     "metadata": {},
     "output_type": "display_data"
    }
   ],
   "source": [
    "fitness_prophet.plot(fitness_forecast, xlabel = 'Date')\n",
    "plt.title('Forecast for Fitness Industry');"
   ]
  },
  {
   "cell_type": "code",
   "execution_count": 39,
   "metadata": {},
   "outputs": [
    {
     "data": {
      "image/png": "[encoded data removed]",
      "text/plain": [
       "<Figure size 648x432 with 2 Axes>"
      ]
     },
     "execution_count": 39,
     "metadata": {},
     "output_type": "execute_result"
    },
    {
     "data": {
      "image/png": "[encoded data removed]",
      "text/plain": [
       "<Figure size 648x432 with 2 Axes>"
      ]
     },
     "metadata": {},
     "output_type": "display_data"
    }
   ],
   "source": [
    "fitness_prophet.plot_components(fitness_forecast)"
   ]
  },
  {
   "cell_type": "code",
   "execution_count": 40,
   "metadata": {},
   "outputs": [
    {
     "data": {
      "text/html": [
       "        <script type=\"text/javascript\">\n",
       "        window.PlotlyConfig = {MathJaxConfig: 'local'};\n",
       "        if (window.MathJax) {MathJax.Hub.Config({SVG: {font: \"STIX-Web\"}});}\n",
       "        if (typeof require !== 'undefined') {\n",
       "        require.undef(\"plotly\");\n",
       "        requirejs.config({\n",
       "            paths: {\n",
       "                'plotly': ['https://cdn.plot.ly/plotly-latest.min']\n",
       "            }\n",
       "        });\n",
       "        require(['plotly'], function(Plotly) {\n",
       "            window._Plotly = Plotly;\n",
       "        });\n",
       "        }\n",
       "        </script>\n",
       "        "
      ]
     },
     "metadata": {},
     "output_type": "display_data"
    }
   ],
   "source": [
    "from pandas.tseries.offsets import DateOffset\n",
    "from sklearn.preprocessing import MinMaxScaler\n",
    "\n",
    "import tensorflow as tf\n",
    "from tensorflow import keras\n",
    "\n",
    "from tensorflow.keras.preprocessing.sequence import TimeseriesGenerator\n",
    "from tensorflow.keras.models import Sequential\n",
    "from tensorflow.keras.layers import Dense\n",
    "from tensorflow.keras.layers import LSTM\n",
    "from tensorflow.keras.layers import Dropout\n",
    "import warnings\n",
    "warnings.filterwarnings(\"ignore\")\n",
    "\n",
    "import chart_studio.plotly as py\n",
    "import plotly.offline as pyoff\n",
    "import plotly.graph_objs as go\n",
    "pyoff.init_notebook_mode(connected=True)"
   ]
  },
  {
   "cell_type": "code",
   "execution_count": 41,
   "metadata": {
    "scrolled": true
   },
   "outputs": [],
   "source": [
    "scaler = MinMaxScaler()\n",
    "scaler.fit(predictions_df_)\n",
    "predict = scaler.transform(predictions_df_)"
   ]
  },
  {
   "cell_type": "code",
   "execution_count": 42,
   "metadata": {},
   "outputs": [],
   "source": [
    "n_input = 12\n",
    "n_features = 1\n",
    "generator = TimeseriesGenerator(predict, predict, length=n_input, batch_size=6)"
   ]
  },
  {
   "cell_type": "code",
   "execution_count": 43,
   "metadata": {},
   "outputs": [],
   "source": [
    "model = Sequential()\n",
    "model.add(LSTM(200, activation='relu', input_shape=(n_input, n_features)))\n",
    "model.add(Dropout(0.15))\n",
    "model.add(Dense(1))\n",
    "\n",
    "optimizer = keras.optimizers.Adam(learning_rate=0.001)\n",
    "model.compile(optimizer=optimizer, loss='mse')"
   ]
  },
  {
   "cell_type": "code",
   "execution_count": 44,
   "metadata": {},
   "outputs": [
    {
     "name": "stderr",
     "output_type": "stream",
     "text": [
      "WARNING:tensorflow:From <ipython-input-44-d39df557a8ab>:1: Model.fit_generator (from tensorflow.python.keras.engine.training) is deprecated and will be removed in a future version.\n",
      "Instructions for updating:\n",
      "Please use Model.fit, which supports generators.\n"
     ]
    },
    {
     "name": "stdout",
     "output_type": "stream",
     "text": [
      "Epoch 1/100\n",
      "13/13 [==============================] - 0s 11ms/step - loss: 0.2887\n",
      "Epoch 2/100\n",
      "13/13 [==============================] - 0s 17ms/step - loss: 0.0444\n",
      "Epoch 3/100\n",
      "13/13 [==============================] - 0s 13ms/step - loss: 0.0132\n",
      "Epoch 4/100\n",
      "13/13 [==============================] - 0s 13ms/step - loss: 0.0140\n",
      "Epoch 5/100\n",
      "13/13 [==============================] - 0s 11ms/step - loss: 0.0165\n",
      "Epoch 6/100\n",
      "13/13 [==============================] - 0s 12ms/step - loss: 0.0141\n",
      "Epoch 7/100\n",
      "13/13 [==============================] - 0s 12ms/step - loss: 0.0133\n",
      "Epoch 8/100\n",
      "13/13 [==============================] - 0s 12ms/step - loss: 0.0121\n",
      "Epoch 9/100\n",
      "13/13 [==============================] - 0s 11ms/step - loss: 0.0124\n",
      "Epoch 10/100\n",
      "13/13 [==============================] - 0s 11ms/step - loss: 0.0147\n",
      "Epoch 11/100\n",
      "13/13 [==============================] - 0s 11ms/step - loss: 0.0125\n",
      "Epoch 12/100\n",
      "13/13 [==============================] - 0s 11ms/step - loss: 0.0134\n",
      "Epoch 13/100\n",
      "13/13 [==============================] - 0s 11ms/step - loss: 0.0116\n",
      "Epoch 14/100\n",
      "13/13 [==============================] - 0s 12ms/step - loss: 0.0109\n",
      "Epoch 15/100\n",
      "13/13 [==============================] - 0s 12ms/step - loss: 0.0133\n",
      "Epoch 16/100\n",
      "13/13 [==============================] - 0s 11ms/step - loss: 0.0130\n",
      "Epoch 17/100\n",
      "13/13 [==============================] - 0s 11ms/step - loss: 0.0157\n",
      "Epoch 18/100\n",
      "13/13 [==============================] - 0s 11ms/step - loss: 0.0121\n",
      "Epoch 19/100\n",
      "13/13 [==============================] - 0s 12ms/step - loss: 0.0201\n",
      "Epoch 20/100\n",
      "13/13 [==============================] - 0s 9ms/step - loss: 0.0118\n",
      "Epoch 21/100\n",
      "13/13 [==============================] - 0s 8ms/step - loss: 0.0112\n",
      "Epoch 22/100\n",
      "13/13 [==============================] - 0s 8ms/step - loss: 0.0103\n",
      "Epoch 23/100\n",
      "13/13 [==============================] - 0s 8ms/step - loss: 0.0113\n",
      "Epoch 24/100\n",
      "13/13 [==============================] - 0s 8ms/step - loss: 0.0128\n",
      "Epoch 25/100\n",
      "13/13 [==============================] - 0s 8ms/step - loss: 0.0104\n",
      "Epoch 26/100\n",
      "13/13 [==============================] - 0s 9ms/step - loss: 0.0082\n",
      "Epoch 27/100\n",
      "13/13 [==============================] - 0s 9ms/step - loss: 0.0134\n",
      "Epoch 28/100\n",
      "13/13 [==============================] - 0s 9ms/step - loss: 0.0115\n",
      "Epoch 29/100\n",
      "13/13 [==============================] - 0s 8ms/step - loss: 0.0123\n",
      "Epoch 30/100\n",
      "13/13 [==============================] - 0s 8ms/step - loss: 0.0140\n",
      "Epoch 31/100\n",
      "13/13 [==============================] - 0s 8ms/step - loss: 0.0141\n",
      "Epoch 32/100\n",
      "13/13 [==============================] - 0s 7ms/step - loss: 0.0131\n",
      "Epoch 33/100\n",
      "13/13 [==============================] - 0s 8ms/step - loss: 0.0140\n",
      "Epoch 34/100\n",
      "13/13 [==============================] - 0s 8ms/step - loss: 0.0122\n",
      "Epoch 35/100\n",
      "13/13 [==============================] - 0s 8ms/step - loss: 0.0134\n",
      "Epoch 36/100\n",
      "13/13 [==============================] - 0s 9ms/step - loss: 0.0129\n",
      "Epoch 37/100\n",
      "13/13 [==============================] - 0s 8ms/step - loss: 0.0134\n",
      "Epoch 38/100\n",
      "13/13 [==============================] - 0s 8ms/step - loss: 0.0079\n",
      "Epoch 39/100\n",
      "13/13 [==============================] - 0s 8ms/step - loss: 0.0119\n",
      "Epoch 40/100\n",
      "13/13 [==============================] - 0s 9ms/step - loss: 0.0119\n",
      "Epoch 41/100\n",
      "13/13 [==============================] - 0s 10ms/step - loss: 0.0100\n",
      "Epoch 42/100\n",
      "13/13 [==============================] - 0s 12ms/step - loss: 0.0120\n",
      "Epoch 43/100\n",
      "13/13 [==============================] - 0s 12ms/step - loss: 0.0104\n",
      "Epoch 44/100\n",
      "13/13 [==============================] - 0s 11ms/step - loss: 0.0104\n",
      "Epoch 45/100\n",
      "13/13 [==============================] - 0s 11ms/step - loss: 0.0122\n",
      "Epoch 46/100\n",
      "13/13 [==============================] - 0s 11ms/step - loss: 0.0111\n",
      "Epoch 47/100\n",
      "13/13 [==============================] - 0s 11ms/step - loss: 0.0109\n",
      "Epoch 48/100\n",
      "13/13 [==============================] - 0s 12ms/step - loss: 0.0109\n",
      "Epoch 49/100\n",
      "13/13 [==============================] - 0s 11ms/step - loss: 0.0099\n",
      "Epoch 50/100\n",
      "13/13 [==============================] - 0s 11ms/step - loss: 0.0123\n",
      "Epoch 51/100\n",
      "13/13 [==============================] - 0s 11ms/step - loss: 0.0099\n",
      "Epoch 52/100\n",
      "13/13 [==============================] - 0s 10ms/step - loss: 0.0119\n",
      "Epoch 53/100\n",
      "13/13 [==============================] - 0s 11ms/step - loss: 0.0113\n",
      "Epoch 54/100\n",
      "13/13 [==============================] - 0s 11ms/step - loss: 0.0095\n",
      "Epoch 55/100\n",
      "13/13 [==============================] - 0s 10ms/step - loss: 0.0126\n",
      "Epoch 56/100\n",
      "13/13 [==============================] - 0s 13ms/step - loss: 0.0115\n",
      "Epoch 57/100\n",
      "13/13 [==============================] - 0s 10ms/step - loss: 0.0111\n",
      "Epoch 58/100\n",
      "13/13 [==============================] - 0s 12ms/step - loss: 0.0084\n",
      "Epoch 59/100\n",
      "13/13 [==============================] - 0s 10ms/step - loss: 0.0093\n",
      "Epoch 60/100\n",
      "13/13 [==============================] - 0s 9ms/step - loss: 0.0080\n",
      "Epoch 61/100\n",
      "13/13 [==============================] - 0s 12ms/step - loss: 0.0080\n",
      "Epoch 62/100\n",
      "13/13 [==============================] - 0s 13ms/step - loss: 0.0091\n",
      "Epoch 63/100\n",
      "13/13 [==============================] - 0s 17ms/step - loss: 0.0101\n",
      "Epoch 64/100\n",
      "13/13 [==============================] - 0s 14ms/step - loss: 0.0130\n",
      "Epoch 65/100\n",
      "13/13 [==============================] - 0s 10ms/step - loss: 0.0099\n",
      "Epoch 66/100\n",
      "13/13 [==============================] - 0s 11ms/step - loss: 0.0096\n",
      "Epoch 67/100\n",
      "13/13 [==============================] - 0s 14ms/step - loss: 0.0100\n",
      "Epoch 68/100\n",
      "13/13 [==============================] - 0s 11ms/step - loss: 0.0077\n",
      "Epoch 69/100\n",
      "13/13 [==============================] - 0s 11ms/step - loss: 0.0095\n",
      "Epoch 70/100\n",
      "13/13 [==============================] - 0s 13ms/step - loss: 0.0098\n",
      "Epoch 71/100\n",
      "13/13 [==============================] - 0s 15ms/step - loss: 0.0117\n",
      "Epoch 72/100\n",
      "13/13 [==============================] - 0s 13ms/step - loss: 0.0080\n",
      "Epoch 73/100\n",
      "13/13 [==============================] - 0s 15ms/step - loss: 0.0100\n",
      "Epoch 74/100\n",
      "13/13 [==============================] - 0s 13ms/step - loss: 0.0092\n",
      "Epoch 75/100\n",
      "13/13 [==============================] - 0s 14ms/step - loss: 0.0118\n",
      "Epoch 76/100\n",
      "13/13 [==============================] - 0s 14ms/step - loss: 0.0104\n",
      "Epoch 77/100\n",
      "13/13 [==============================] - 0s 14ms/step - loss: 0.0091\n",
      "Epoch 78/100\n",
      "13/13 [==============================] - 0s 14ms/step - loss: 0.0109\n",
      "Epoch 79/100\n",
      "13/13 [==============================] - 0s 14ms/step - loss: 0.0104\n",
      "Epoch 80/100\n",
      "13/13 [==============================] - 0s 16ms/step - loss: 0.0107\n",
      "Epoch 81/100\n",
      "13/13 [==============================] - 0s 15ms/step - loss: 0.0082\n",
      "Epoch 82/100\n",
      "13/13 [==============================] - 0s 14ms/step - loss: 0.0100\n",
      "Epoch 83/100\n",
      "13/13 [==============================] - 0s 13ms/step - loss: 0.0112\n",
      "Epoch 84/100\n",
      "13/13 [==============================] - 0s 12ms/step - loss: 0.0098\n",
      "Epoch 85/100\n",
      "13/13 [==============================] - 0s 13ms/step - loss: 0.0108\n",
      "Epoch 86/100\n",
      "13/13 [==============================] - 0s 11ms/step - loss: 0.0084\n",
      "Epoch 87/100\n",
      "13/13 [==============================] - 0s 11ms/step - loss: 0.0075\n",
      "Epoch 88/100\n",
      "13/13 [==============================] - 0s 9ms/step - loss: 0.0085\n",
      "Epoch 89/100\n",
      "13/13 [==============================] - 0s 9ms/step - loss: 0.0083\n",
      "Epoch 90/100\n",
      "13/13 [==============================] - 0s 9ms/step - loss: 0.0100\n",
      "Epoch 91/100\n",
      "13/13 [==============================] - 0s 9ms/step - loss: 0.0080\n",
      "Epoch 92/100\n",
      "13/13 [==============================] - 0s 11ms/step - loss: 0.0093\n",
      "Epoch 93/100\n",
      "13/13 [==============================] - 0s 9ms/step - loss: 0.0097\n",
      "Epoch 94/100\n",
      "13/13 [==============================] - 0s 9ms/step - loss: 0.0093\n",
      "Epoch 95/100\n",
      "13/13 [==============================] - 0s 11ms/step - loss: 0.0088\n",
      "Epoch 96/100\n",
      "13/13 [==============================] - 0s 10ms/step - loss: 0.0079\n",
      "Epoch 97/100\n",
      "13/13 [==============================] - 0s 9ms/step - loss: 0.0111\n",
      "Epoch 98/100\n",
      "13/13 [==============================] - 0s 9ms/step - loss: 0.0094\n",
      "Epoch 99/100\n",
      "13/13 [==============================] - 0s 10ms/step - loss: 0.0112\n",
      "Epoch 100/100\n",
      "13/13 [==============================] - 0s 9ms/step - loss: 0.0094\n"
     ]
    }
   ],
   "source": [
    "history = model.fit_generator(generator,epochs=100,verbose=1)"
   ]
  },
  {
   "cell_type": "code",
   "execution_count": 45,
   "metadata": {},
   "outputs": [
    {
     "data": {
      "application/vnd.plotly.v1+json": {
       "config": {
        "linkText": "Export to plot.ly",
        "plotlyServerURL": "https://plot.ly",
        "showLink": false
       },
       "data": [
        {
         "name": "loss",
         "type": "scatter",
         "x": [
          0,
          1,
          2,
          3,
          4,
          5,
          6,
          7,
          8,
          9,
          10,
          11,
          12,
          13,
          14,
          15,
          16,
          17,
          18,
          19,
          20,
          21,
          22,
          23,
          24,
          25,
          26,
          27,
          28,
          29,
          30,
          31,
          32,
          33,
          34,
          35,
          36,
          37,
          38,
          39,
          40,
          41,
          42,
          43,
          44,
          45,
          46,
          47,
          48,
          49,
          50,
          51,
          52,
          53,
          54,
          55,
          56,
          57,
          58,
          59,
          60,
          61,
          62,
          63,
          64,
          65,
          66,
          67,
          68,
          69,
          70,
          71,
          72,
          73,
          74,
          75,
          76,
          77,
          78,
          79,
          80,
          81,
          82,
          83,
          84,
          85,
          86,
          87,
          88,
          89,
          90,
          91,
          92,
          93,
          94,
          95,
          96,
          97,
          98,
          99
         ],
         "y": [
          0.2887279987335205,
          0.04443900287151337,
          0.013166370801627636,
          0.013977897353470325,
          0.016468074172735214,
          0.014079363085329533,
          0.013293876312673092,
          0.01214311271905899,
          0.01239917241036892,
          0.014696557074785233,
          0.012541688978672028,
          0.013375203125178814,
          0.011645806021988392,
          0.010887423530220985,
          0.013289086520671844,
          0.013001362793147564,
          0.015695245936512947,
          0.012092051096260548,
          0.020050721243023872,
          0.011767437681555748,
          0.011151202954351902,
          0.010301652364432812,
          0.011299683712422848,
          0.012778972275555134,
          0.010413157753646374,
          0.008225994184613228,
          0.01343920174986124,
          0.011486346833407879,
          0.012300255708396435,
          0.013962164521217346,
          0.014142238534986973,
          0.013111402280628681,
          0.013979592360556126,
          0.012242842465639114,
          0.013385836966335773,
          0.012916217558085918,
          0.013385618105530739,
          0.007890795357525349,
          0.011914050206542015,
          0.011866910383105278,
          0.010018110275268555,
          0.011995876207947731,
          0.010440602898597717,
          0.010371015407145023,
          0.012204751372337341,
          0.011118698865175247,
          0.01093381829559803,
          0.010945667512714863,
          0.00988743081688881,
          0.012268814258277416,
          0.009936024434864521,
          0.01187878381460905,
          0.011302055791020393,
          0.009476988576352596,
          0.012623428367078304,
          0.011492051184177399,
          0.011092363856732845,
          0.00840703770518303,
          0.009320457465946674,
          0.008016161620616913,
          0.007971914485096931,
          0.009077644906938076,
          0.010073344223201275,
          0.012954669073224068,
          0.009861127473413944,
          0.009591635316610336,
          0.010022120550274849,
          0.007674369495362043,
          0.009493403136730194,
          0.009787680581212044,
          0.011657125316560268,
          0.007978733628988266,
          0.010006260126829147,
          0.009153390303254128,
          0.011797198094427586,
          0.010382607579231262,
          0.009092564694583416,
          0.010879685170948505,
          0.010389445349574089,
          0.010668960399925709,
          0.008188574574887753,
          0.009972497820854187,
          0.011173476465046406,
          0.00975044909864664,
          0.01082591526210308,
          0.00836441945284605,
          0.007478642277419567,
          0.008458895608782768,
          0.008275218307971954,
          0.010007456876337528,
          0.007966699078679085,
          0.009254246950149536,
          0.009668014943599701,
          0.009279678575694561,
          0.00882806908339262,
          0.007874507457017899,
          0.0111404899507761,
          0.009406394325196743,
          0.011159026063978672,
          0.009405286982655525
         ]
        }
       ],
       "layout": {
        "template": {
         "data": {
          "bar": [
           {
            "error_x": {
             "color": "#2a3f5f"
            },
            "error_y": {
             "color": "#2a3f5f"
            },
            "marker": {
             "line": {
              "color": "#E5ECF6",
              "width": 0.5
             }
            },
            "type": "bar"
           }
          ],
          "barpolar": [
           {
            "marker": {
             "line": {
              "color": "#E5ECF6",
              "width": 0.5
             }
            },
            "type": "barpolar"
           }
          ],
          "carpet": [
           {
            "aaxis": {
             "endlinecolor": "#2a3f5f",
             "gridcolor": "white",
             "linecolor": "white",
             "minorgridcolor": "white",
             "startlinecolor": "#2a3f5f"
            },
            "baxis": {
             "endlinecolor": "#2a3f5f",
             "gridcolor": "white",
             "linecolor": "white",
             "minorgridcolor": "white",
             "startlinecolor": "#2a3f5f"
            },
            "type": "carpet"
           }
          ],
          "choropleth": [
           {
            "colorbar": {
             "outlinewidth": 0,
             "ticks": ""
            },
            "type": "choropleth"
           }
          ],
          "contour": [
           {
            "colorbar": {
             "outlinewidth": 0,
             "ticks": ""
            },
            "colorscale": [
             [
              0,
              "#0d0887"
             ],
             [
              0.1111111111111111,
              "#46039f"
             ],
             [
              0.2222222222222222,
              "#7201a8"
             ],
             [
              0.3333333333333333,
              "#9c179e"
             ],
             [
              0.4444444444444444,
              "#bd3786"
             ],
             [
              0.5555555555555556,
              "#d8576b"
             ],
             [
              0.6666666666666666,
              "#ed7953"
             ],
             [
              0.7777777777777778,
              "#fb9f3a"
             ],
             [
              0.8888888888888888,
              "#fdca26"
             ],
             [
              1,
              "#f0f921"
             ]
            ],
            "type": "contour"
           }
          ],
          "contourcarpet": [
           {
            "colorbar": {
             "outlinewidth": 0,
             "ticks": ""
            },
            "type": "contourcarpet"
           }
          ],
          "heatmap": [
           {
            "colorbar": {
             "outlinewidth": 0,
             "ticks": ""
            },
            "colorscale": [
             [
              0,
              "#0d0887"
             ],
             [
              0.1111111111111111,
              "#46039f"
             ],
             [
              0.2222222222222222,
              "#7201a8"
             ],
             [
              0.3333333333333333,
              "#9c179e"
             ],
             [
              0.4444444444444444,
              "#bd3786"
             ],
             [
              0.5555555555555556,
              "#d8576b"
             ],
             [
              0.6666666666666666,
              "#ed7953"
             ],
             [
              0.7777777777777778,
              "#fb9f3a"
             ],
             [
              0.8888888888888888,
              "#fdca26"
             ],
             [
              1,
              "#f0f921"
             ]
            ],
            "type": "heatmap"
           }
          ],
          "heatmapgl": [
           {
            "colorbar": {
             "outlinewidth": 0,
             "ticks": ""
            },
            "colorscale": [
             [
              0,
              "#0d0887"
             ],
             [
              0.1111111111111111,
              "#46039f"
             ],
             [
              0.2222222222222222,
              "#7201a8"
             ],
             [
              0.3333333333333333,
              "#9c179e"
             ],
             [
              0.4444444444444444,
              "#bd3786"
             ],
             [
              0.5555555555555556,
              "#d8576b"
             ],
             [
              0.6666666666666666,
              "#ed7953"
             ],
             [
              0.7777777777777778,
              "#fb9f3a"
             ],
             [
              0.8888888888888888,
              "#fdca26"
             ],
             [
              1,
              "#f0f921"
             ]
            ],
            "type": "heatmapgl"
           }
          ],
          "histogram": [
           {
            "marker": {
             "colorbar": {
              "outlinewidth": 0,
              "ticks": ""
             }
            },
            "type": "histogram"
           }
          ],
          "histogram2d": [
           {
            "colorbar": {
             "outlinewidth": 0,
             "ticks": ""
            },
            "colorscale": [
             [
              0,
              "#0d0887"
             ],
             [
              0.1111111111111111,
              "#46039f"
             ],
             [
              0.2222222222222222,
              "#7201a8"
             ],
             [
              0.3333333333333333,
              "#9c179e"
             ],
             [
              0.4444444444444444,
              "#bd3786"
             ],
             [
              0.5555555555555556,
              "#d8576b"
             ],
             [
              0.6666666666666666,
              "#ed7953"
             ],
             [
              0.7777777777777778,
              "#fb9f3a"
             ],
             [
              0.8888888888888888,
              "#fdca26"
             ],
             [
              1,
              "#f0f921"
             ]
            ],
            "type": "histogram2d"
           }
          ],
          "histogram2dcontour": [
           {
            "colorbar": {
             "outlinewidth": 0,
             "ticks": ""
            },
            "colorscale": [
             [
              0,
              "#0d0887"
             ],
             [
              0.1111111111111111,
              "#46039f"
             ],
             [
              0.2222222222222222,
              "#7201a8"
             ],
             [
              0.3333333333333333,
              "#9c179e"
             ],
             [
              0.4444444444444444,
              "#bd3786"
             ],
             [
              0.5555555555555556,
              "#d8576b"
             ],
             [
              0.6666666666666666,
              "#ed7953"
             ],
             [
              0.7777777777777778,
              "#fb9f3a"
             ],
             [
              0.8888888888888888,
              "#fdca26"
             ],
             [
              1,
              "#f0f921"
             ]
            ],
            "type": "histogram2dcontour"
           }
          ],
          "mesh3d": [
           {
            "colorbar": {
             "outlinewidth": 0,
             "ticks": ""
            },
            "type": "mesh3d"
           }
          ],
          "parcoords": [
           {
            "line": {
             "colorbar": {
              "outlinewidth": 0,
              "ticks": ""
             }
            },
            "type": "parcoords"
           }
          ],
          "pie": [
           {
            "automargin": true,
            "type": "pie"
           }
          ],
          "scatter": [
           {
            "marker": {
             "colorbar": {
              "outlinewidth": 0,
              "ticks": ""
             }
            },
            "type": "scatter"
           }
          ],
          "scatter3d": [
           {
            "line": {
             "colorbar": {
              "outlinewidth": 0,
              "ticks": ""
             }
            },
            "marker": {
             "colorbar": {
              "outlinewidth": 0,
              "ticks": ""
             }
            },
            "type": "scatter3d"
           }
          ],
          "scattercarpet": [
           {
            "marker": {
             "colorbar": {
              "outlinewidth": 0,
              "ticks": ""
             }
            },
            "type": "scattercarpet"
           }
          ],
          "scattergeo": [
           {
            "marker": {
             "colorbar": {
              "outlinewidth": 0,
              "ticks": ""
             }
            },
            "type": "scattergeo"
           }
          ],
          "scattergl": [
           {
            "marker": {
             "colorbar": {
              "outlinewidth": 0,
              "ticks": ""
             }
            },
            "type": "scattergl"
           }
          ],
          "scattermapbox": [
           {
            "marker": {
             "colorbar": {
              "outlinewidth": 0,
              "ticks": ""
             }
            },
            "type": "scattermapbox"
           }
          ],
          "scatterpolar": [
           {
            "marker": {
             "colorbar": {
              "outlinewidth": 0,
              "ticks": ""
             }
            },
            "type": "scatterpolar"
           }
          ],
          "scatterpolargl": [
           {
            "marker": {
             "colorbar": {
              "outlinewidth": 0,
              "ticks": ""
             }
            },
            "type": "scatterpolargl"
           }
          ],
          "scatterternary": [
           {
            "marker": {
             "colorbar": {
              "outlinewidth": 0,
              "ticks": ""
             }
            },
            "type": "scatterternary"
           }
          ],
          "surface": [
           {
            "colorbar": {
             "outlinewidth": 0,
             "ticks": ""
            },
            "colorscale": [
             [
              0,
              "#0d0887"
             ],
             [
              0.1111111111111111,
              "#46039f"
             ],
             [
              0.2222222222222222,
              "#7201a8"
             ],
             [
              0.3333333333333333,
              "#9c179e"
             ],
             [
              0.4444444444444444,
              "#bd3786"
             ],
             [
              0.5555555555555556,
              "#d8576b"
             ],
             [
              0.6666666666666666,
              "#ed7953"
             ],
             [
              0.7777777777777778,
              "#fb9f3a"
             ],
             [
              0.8888888888888888,
              "#fdca26"
             ],
             [
              1,
              "#f0f921"
             ]
            ],
            "type": "surface"
           }
          ],
          "table": [
           {
            "cells": {
             "fill": {
              "color": "#EBF0F8"
             },
             "line": {
              "color": "white"
             }
            },
            "header": {
             "fill": {
              "color": "#C8D4E3"
             },
             "line": {
              "color": "white"
             }
            },
            "type": "table"
           }
          ]
         },
         "layout": {
          "annotationdefaults": {
           "arrowcolor": "#2a3f5f",
           "arrowhead": 0,
           "arrowwidth": 1
          },
          "coloraxis": {
           "colorbar": {
            "outlinewidth": 0,
            "ticks": ""
           }
          },
          "colorscale": {
           "diverging": [
            [
             0,
             "#8e0152"
            ],
            [
             0.1,
             "#c51b7d"
            ],
            [
             0.2,
             "#de77ae"
            ],
            [
             0.3,
             "#f1b6da"
            ],
            [
             0.4,
             "#fde0ef"
            ],
            [
             0.5,
             "#f7f7f7"
            ],
            [
             0.6,
             "#e6f5d0"
            ],
            [
             0.7,
             "#b8e186"
            ],
            [
             0.8,
             "#7fbc41"
            ],
            [
             0.9,
             "#4d9221"
            ],
            [
             1,
             "#276419"
            ]
           ],
           "sequential": [
            [
             0,
             "#0d0887"
            ],
            [
             0.1111111111111111,
             "#46039f"
            ],
            [
             0.2222222222222222,
             "#7201a8"
            ],
            [
             0.3333333333333333,
             "#9c179e"
            ],
            [
             0.4444444444444444,
             "#bd3786"
            ],
            [
             0.5555555555555556,
             "#d8576b"
            ],
            [
             0.6666666666666666,
             "#ed7953"
            ],
            [
             0.7777777777777778,
             "#fb9f3a"
            ],
            [
             0.8888888888888888,
             "#fdca26"
            ],
            [
             1,
             "#f0f921"
            ]
           ],
           "sequentialminus": [
            [
             0,
             "#0d0887"
            ],
            [
             0.1111111111111111,
             "#46039f"
            ],
            [
             0.2222222222222222,
             "#7201a8"
            ],
            [
             0.3333333333333333,
             "#9c179e"
            ],
            [
             0.4444444444444444,
             "#bd3786"
            ],
            [
             0.5555555555555556,
             "#d8576b"
            ],
            [
             0.6666666666666666,
             "#ed7953"
            ],
            [
             0.7777777777777778,
             "#fb9f3a"
            ],
            [
             0.8888888888888888,
             "#fdca26"
            ],
            [
             1,
             "#f0f921"
            ]
           ]
          },
          "colorway": [
           "#636efa",
           "#EF553B",
           "#00cc96",
           "#ab63fa",
           "#FFA15A",
           "#19d3f3",
           "#FF6692",
           "#B6E880",
           "#FF97FF",
           "#FECB52"
          ],
          "font": {
           "color": "#2a3f5f"
          },
          "geo": {
           "bgcolor": "white",
           "lakecolor": "white",
           "landcolor": "#E5ECF6",
           "showlakes": true,
           "showland": true,
           "subunitcolor": "white"
          },
          "hoverlabel": {
           "align": "left"
          },
          "hovermode": "closest",
          "mapbox": {
           "style": "light"
          },
          "paper_bgcolor": "white",
          "plot_bgcolor": "#E5ECF6",
          "polar": {
           "angularaxis": {
            "gridcolor": "white",
            "linecolor": "white",
            "ticks": ""
           },
           "bgcolor": "#E5ECF6",
           "radialaxis": {
            "gridcolor": "white",
            "linecolor": "white",
            "ticks": ""
           }
          },
          "scene": {
           "xaxis": {
            "backgroundcolor": "#E5ECF6",
            "gridcolor": "white",
            "gridwidth": 2,
            "linecolor": "white",
            "showbackground": true,
            "ticks": "",
            "zerolinecolor": "white"
           },
           "yaxis": {
            "backgroundcolor": "#E5ECF6",
            "gridcolor": "white",
            "gridwidth": 2,
            "linecolor": "white",
            "showbackground": true,
            "ticks": "",
            "zerolinecolor": "white"
           },
           "zaxis": {
            "backgroundcolor": "#E5ECF6",
            "gridcolor": "white",
            "gridwidth": 2,
            "linecolor": "white",
            "showbackground": true,
            "ticks": "",
            "zerolinecolor": "white"
           }
          },
          "shapedefaults": {
           "line": {
            "color": "#2a3f5f"
           }
          },
          "ternary": {
           "aaxis": {
            "gridcolor": "white",
            "linecolor": "white",
            "ticks": ""
           },
           "baxis": {
            "gridcolor": "white",
            "linecolor": "white",
            "ticks": ""
           },
           "bgcolor": "#E5ECF6",
           "caxis": {
            "gridcolor": "white",
            "linecolor": "white",
            "ticks": ""
           }
          },
          "title": {
           "x": 0.05
          },
          "xaxis": {
           "automargin": true,
           "gridcolor": "white",
           "linecolor": "white",
           "ticks": "",
           "title": {
            "standoff": 15
           },
           "zerolinecolor": "white",
           "zerolinewidth": 2
          },
          "yaxis": {
           "automargin": true,
           "gridcolor": "white",
           "linecolor": "white",
           "ticks": "",
           "title": {
            "standoff": 15
           },
           "zerolinecolor": "white",
           "zerolinewidth": 2
          }
         }
        },
        "title": {
         "text": "Training loss"
        }
       }
      },
      "text/html": [
       "<div>\n",
       "        \n",
       "        \n",
       "            <div id=\"29330b9b-e355-4f58-b76d-e93d748bbcf0\" class=\"plotly-graph-div\" style=\"height:525px; width:100%;\"></div>\n",
       "            <script type=\"text/javascript\">\n",
       "                require([\"plotly\"], function(Plotly) {\n",
       "                    window.PLOTLYENV=window.PLOTLYENV || {};\n",
       "                    \n",
       "                if (document.getElementById(\"29330b9b-e355-4f58-b76d-e93d748bbcf0\")) {\n",
       "                    Plotly.newPlot(\n",
       "                        '29330b9b-e355-4f58-b76d-e93d748bbcf0',\n",
       "                        [{\"name\": \"loss\", \"type\": \"scatter\", \"x\": [0, 1, 2, 3, 4, 5, 6, 7, 8, 9, 10, 11, 12, 13, 14, 15, 16, 17, 18, 19, 20, 21, 22, 23, 24, 25, 26, 27, 28, 29, 30, 31, 32, 33, 34, 35, 36, 37, 38, 39, 40, 41, 42, 43, 44, 45, 46, 47, 48, 49, 50, 51, 52, 53, 54, 55, 56, 57, 58, 59, 60, 61, 62, 63, 64, 65, 66, 67, 68, 69, 70, 71, 72, 73, 74, 75, 76, 77, 78, 79, 80, 81, 82, 83, 84, 85, 86, 87, 88, 89, 90, 91, 92, 93, 94, 95, 96, 97, 98, 99], \"y\": [0.2887279987335205, 0.04443900287151337, 0.013166370801627636, 0.013977897353470325, 0.016468074172735214, 0.014079363085329533, 0.013293876312673092, 0.01214311271905899, 0.01239917241036892, 0.014696557074785233, 0.012541688978672028, 0.013375203125178814, 0.011645806021988392, 0.010887423530220985, 0.013289086520671844, 0.013001362793147564, 0.015695245936512947, 0.012092051096260548, 0.020050721243023872, 0.011767437681555748, 0.011151202954351902, 0.010301652364432812, 0.011299683712422848, 0.012778972275555134, 0.010413157753646374, 0.008225994184613228, 0.01343920174986124, 0.011486346833407879, 0.012300255708396435, 0.013962164521217346, 0.014142238534986973, 0.013111402280628681, 0.013979592360556126, 0.012242842465639114, 0.013385836966335773, 0.012916217558085918, 0.013385618105530739, 0.007890795357525349, 0.011914050206542015, 0.011866910383105278, 0.010018110275268555, 0.011995876207947731, 0.010440602898597717, 0.010371015407145023, 0.012204751372337341, 0.011118698865175247, 0.01093381829559803, 0.010945667512714863, 0.00988743081688881, 0.012268814258277416, 0.009936024434864521, 0.01187878381460905, 0.011302055791020393, 0.009476988576352596, 0.012623428367078304, 0.011492051184177399, 0.011092363856732845, 0.00840703770518303, 0.009320457465946674, 0.008016161620616913, 0.007971914485096931, 0.009077644906938076, 0.010073344223201275, 0.012954669073224068, 0.009861127473413944, 0.009591635316610336, 0.010022120550274849, 0.007674369495362043, 0.009493403136730194, 0.009787680581212044, 0.011657125316560268, 0.007978733628988266, 0.010006260126829147, 0.009153390303254128, 0.011797198094427586, 0.010382607579231262, 0.009092564694583416, 0.010879685170948505, 0.010389445349574089, 0.010668960399925709, 0.008188574574887753, 0.009972497820854187, 0.011173476465046406, 0.00975044909864664, 0.01082591526210308, 0.00836441945284605, 0.007478642277419567, 0.008458895608782768, 0.008275218307971954, 0.010007456876337528, 0.007966699078679085, 0.009254246950149536, 0.009668014943599701, 0.009279678575694561, 0.00882806908339262, 0.007874507457017899, 0.0111404899507761, 0.009406394325196743, 0.011159026063978672, 0.009405286982655525]}],\n",
       "                        {\"template\": {\"data\": {\"bar\": [{\"error_x\": {\"color\": \"#2a3f5f\"}, \"error_y\": {\"color\": \"#2a3f5f\"}, \"marker\": {\"line\": {\"color\": \"#E5ECF6\", \"width\": 0.5}}, \"type\": \"bar\"}], \"barpolar\": [{\"marker\": {\"line\": {\"color\": \"#E5ECF6\", \"width\": 0.5}}, \"type\": \"barpolar\"}], \"carpet\": [{\"aaxis\": {\"endlinecolor\": \"#2a3f5f\", \"gridcolor\": \"white\", \"linecolor\": \"white\", \"minorgridcolor\": \"white\", \"startlinecolor\": \"#2a3f5f\"}, \"baxis\": {\"endlinecolor\": \"#2a3f5f\", \"gridcolor\": \"white\", \"linecolor\": \"white\", \"minorgridcolor\": \"white\", \"startlinecolor\": \"#2a3f5f\"}, \"type\": \"carpet\"}], \"choropleth\": [{\"colorbar\": {\"outlinewidth\": 0, \"ticks\": \"\"}, \"type\": \"choropleth\"}], \"contour\": [{\"colorbar\": {\"outlinewidth\": 0, \"ticks\": \"\"}, \"colorscale\": [[0.0, \"#0d0887\"], [0.1111111111111111, \"#46039f\"], [0.2222222222222222, \"#7201a8\"], [0.3333333333333333, \"#9c179e\"], [0.4444444444444444, \"#bd3786\"], [0.5555555555555556, \"#d8576b\"], [0.6666666666666666, \"#ed7953\"], [0.7777777777777778, \"#fb9f3a\"], [0.8888888888888888, \"#fdca26\"], [1.0, \"#f0f921\"]], \"type\": \"contour\"}], \"contourcarpet\": [{\"colorbar\": {\"outlinewidth\": 0, \"ticks\": \"\"}, \"type\": \"contourcarpet\"}], \"heatmap\": [{\"colorbar\": {\"outlinewidth\": 0, \"ticks\": \"\"}, \"colorscale\": [[0.0, \"#0d0887\"], [0.1111111111111111, \"#46039f\"], [0.2222222222222222, \"#7201a8\"], [0.3333333333333333, \"#9c179e\"], [0.4444444444444444, \"#bd3786\"], [0.5555555555555556, \"#d8576b\"], [0.6666666666666666, \"#ed7953\"], [0.7777777777777778, \"#fb9f3a\"], [0.8888888888888888, \"#fdca26\"], [1.0, \"#f0f921\"]], \"type\": \"heatmap\"}], \"heatmapgl\": [{\"colorbar\": {\"outlinewidth\": 0, \"ticks\": \"\"}, \"colorscale\": [[0.0, \"#0d0887\"], [0.1111111111111111, \"#46039f\"], [0.2222222222222222, \"#7201a8\"], [0.3333333333333333, \"#9c179e\"], [0.4444444444444444, \"#bd3786\"], [0.5555555555555556, \"#d8576b\"], [0.6666666666666666, \"#ed7953\"], [0.7777777777777778, \"#fb9f3a\"], [0.8888888888888888, \"#fdca26\"], [1.0, \"#f0f921\"]], \"type\": \"heatmapgl\"}], \"histogram\": [{\"marker\": {\"colorbar\": {\"outlinewidth\": 0, \"ticks\": \"\"}}, \"type\": \"histogram\"}], \"histogram2d\": [{\"colorbar\": {\"outlinewidth\": 0, \"ticks\": \"\"}, \"colorscale\": [[0.0, \"#0d0887\"], [0.1111111111111111, \"#46039f\"], [0.2222222222222222, \"#7201a8\"], [0.3333333333333333, \"#9c179e\"], [0.4444444444444444, \"#bd3786\"], [0.5555555555555556, \"#d8576b\"], [0.6666666666666666, \"#ed7953\"], [0.7777777777777778, \"#fb9f3a\"], [0.8888888888888888, \"#fdca26\"], [1.0, \"#f0f921\"]], \"type\": \"histogram2d\"}], \"histogram2dcontour\": [{\"colorbar\": {\"outlinewidth\": 0, \"ticks\": \"\"}, \"colorscale\": [[0.0, \"#0d0887\"], [0.1111111111111111, \"#46039f\"], [0.2222222222222222, \"#7201a8\"], [0.3333333333333333, \"#9c179e\"], [0.4444444444444444, \"#bd3786\"], [0.5555555555555556, \"#d8576b\"], [0.6666666666666666, \"#ed7953\"], [0.7777777777777778, \"#fb9f3a\"], [0.8888888888888888, \"#fdca26\"], [1.0, \"#f0f921\"]], \"type\": \"histogram2dcontour\"}], \"mesh3d\": [{\"colorbar\": {\"outlinewidth\": 0, \"ticks\": \"\"}, \"type\": \"mesh3d\"}], \"parcoords\": [{\"line\": {\"colorbar\": {\"outlinewidth\": 0, \"ticks\": \"\"}}, \"type\": \"parcoords\"}], \"pie\": [{\"automargin\": true, \"type\": \"pie\"}], \"scatter\": [{\"marker\": {\"colorbar\": {\"outlinewidth\": 0, \"ticks\": \"\"}}, \"type\": \"scatter\"}], \"scatter3d\": [{\"line\": {\"colorbar\": {\"outlinewidth\": 0, \"ticks\": \"\"}}, \"marker\": {\"colorbar\": {\"outlinewidth\": 0, \"ticks\": \"\"}}, \"type\": \"scatter3d\"}], \"scattercarpet\": [{\"marker\": {\"colorbar\": {\"outlinewidth\": 0, \"ticks\": \"\"}}, \"type\": \"scattercarpet\"}], \"scattergeo\": [{\"marker\": {\"colorbar\": {\"outlinewidth\": 0, \"ticks\": \"\"}}, \"type\": \"scattergeo\"}], \"scattergl\": [{\"marker\": {\"colorbar\": {\"outlinewidth\": 0, \"ticks\": \"\"}}, \"type\": \"scattergl\"}], \"scattermapbox\": [{\"marker\": {\"colorbar\": {\"outlinewidth\": 0, \"ticks\": \"\"}}, \"type\": \"scattermapbox\"}], \"scatterpolar\": [{\"marker\": {\"colorbar\": {\"outlinewidth\": 0, \"ticks\": \"\"}}, \"type\": \"scatterpolar\"}], \"scatterpolargl\": [{\"marker\": {\"colorbar\": {\"outlinewidth\": 0, \"ticks\": \"\"}}, \"type\": \"scatterpolargl\"}], \"scatterternary\": [{\"marker\": {\"colorbar\": {\"outlinewidth\": 0, \"ticks\": \"\"}}, \"type\": \"scatterternary\"}], \"surface\": [{\"colorbar\": {\"outlinewidth\": 0, \"ticks\": \"\"}, \"colorscale\": [[0.0, \"#0d0887\"], [0.1111111111111111, \"#46039f\"], [0.2222222222222222, \"#7201a8\"], [0.3333333333333333, \"#9c179e\"], [0.4444444444444444, \"#bd3786\"], [0.5555555555555556, \"#d8576b\"], [0.6666666666666666, \"#ed7953\"], [0.7777777777777778, \"#fb9f3a\"], [0.8888888888888888, \"#fdca26\"], [1.0, \"#f0f921\"]], \"type\": \"surface\"}], \"table\": [{\"cells\": {\"fill\": {\"color\": \"#EBF0F8\"}, \"line\": {\"color\": \"white\"}}, \"header\": {\"fill\": {\"color\": \"#C8D4E3\"}, \"line\": {\"color\": \"white\"}}, \"type\": \"table\"}]}, \"layout\": {\"annotationdefaults\": {\"arrowcolor\": \"#2a3f5f\", \"arrowhead\": 0, \"arrowwidth\": 1}, \"coloraxis\": {\"colorbar\": {\"outlinewidth\": 0, \"ticks\": \"\"}}, \"colorscale\": {\"diverging\": [[0, \"#8e0152\"], [0.1, \"#c51b7d\"], [0.2, \"#de77ae\"], [0.3, \"#f1b6da\"], [0.4, \"#fde0ef\"], [0.5, \"#f7f7f7\"], [0.6, \"#e6f5d0\"], [0.7, \"#b8e186\"], [0.8, \"#7fbc41\"], [0.9, \"#4d9221\"], [1, \"#276419\"]], \"sequential\": [[0.0, \"#0d0887\"], [0.1111111111111111, \"#46039f\"], [0.2222222222222222, \"#7201a8\"], [0.3333333333333333, \"#9c179e\"], [0.4444444444444444, \"#bd3786\"], [0.5555555555555556, \"#d8576b\"], [0.6666666666666666, \"#ed7953\"], [0.7777777777777778, \"#fb9f3a\"], [0.8888888888888888, \"#fdca26\"], [1.0, \"#f0f921\"]], \"sequentialminus\": [[0.0, \"#0d0887\"], [0.1111111111111111, \"#46039f\"], [0.2222222222222222, \"#7201a8\"], [0.3333333333333333, \"#9c179e\"], [0.4444444444444444, \"#bd3786\"], [0.5555555555555556, \"#d8576b\"], [0.6666666666666666, \"#ed7953\"], [0.7777777777777778, \"#fb9f3a\"], [0.8888888888888888, \"#fdca26\"], [1.0, \"#f0f921\"]]}, \"colorway\": [\"#636efa\", \"#EF553B\", \"#00cc96\", \"#ab63fa\", \"#FFA15A\", \"#19d3f3\", \"#FF6692\", \"#B6E880\", \"#FF97FF\", \"#FECB52\"], \"font\": {\"color\": \"#2a3f5f\"}, \"geo\": {\"bgcolor\": \"white\", \"lakecolor\": \"white\", \"landcolor\": \"#E5ECF6\", \"showlakes\": true, \"showland\": true, \"subunitcolor\": \"white\"}, \"hoverlabel\": {\"align\": \"left\"}, \"hovermode\": \"closest\", \"mapbox\": {\"style\": \"light\"}, \"paper_bgcolor\": \"white\", \"plot_bgcolor\": \"#E5ECF6\", \"polar\": {\"angularaxis\": {\"gridcolor\": \"white\", \"linecolor\": \"white\", \"ticks\": \"\"}, \"bgcolor\": \"#E5ECF6\", \"radialaxis\": {\"gridcolor\": \"white\", \"linecolor\": \"white\", \"ticks\": \"\"}}, \"scene\": {\"xaxis\": {\"backgroundcolor\": \"#E5ECF6\", \"gridcolor\": \"white\", \"gridwidth\": 2, \"linecolor\": \"white\", \"showbackground\": true, \"ticks\": \"\", \"zerolinecolor\": \"white\"}, \"yaxis\": {\"backgroundcolor\": \"#E5ECF6\", \"gridcolor\": \"white\", \"gridwidth\": 2, \"linecolor\": \"white\", \"showbackground\": true, \"ticks\": \"\", \"zerolinecolor\": \"white\"}, \"zaxis\": {\"backgroundcolor\": \"#E5ECF6\", \"gridcolor\": \"white\", \"gridwidth\": 2, \"linecolor\": \"white\", \"showbackground\": true, \"ticks\": \"\", \"zerolinecolor\": \"white\"}}, \"shapedefaults\": {\"line\": {\"color\": \"#2a3f5f\"}}, \"ternary\": {\"aaxis\": {\"gridcolor\": \"white\", \"linecolor\": \"white\", \"ticks\": \"\"}, \"baxis\": {\"gridcolor\": \"white\", \"linecolor\": \"white\", \"ticks\": \"\"}, \"bgcolor\": \"#E5ECF6\", \"caxis\": {\"gridcolor\": \"white\", \"linecolor\": \"white\", \"ticks\": \"\"}}, \"title\": {\"x\": 0.05}, \"xaxis\": {\"automargin\": true, \"gridcolor\": \"white\", \"linecolor\": \"white\", \"ticks\": \"\", \"title\": {\"standoff\": 15}, \"zerolinecolor\": \"white\", \"zerolinewidth\": 2}, \"yaxis\": {\"automargin\": true, \"gridcolor\": \"white\", \"linecolor\": \"white\", \"ticks\": \"\", \"title\": {\"standoff\": 15}, \"zerolinecolor\": \"white\", \"zerolinewidth\": 2}}}, \"title\": {\"text\": \"Training loss\"}},\n",
       "                        {\"responsive\": true}\n",
       "                    ).then(function(){\n",
       "                            \n",
       "var gd = document.getElementById('29330b9b-e355-4f58-b76d-e93d748bbcf0');\n",
       "var x = new MutationObserver(function (mutations, observer) {{\n",
       "        var display = window.getComputedStyle(gd).display;\n",
       "        if (!display || display === 'none') {{\n",
       "            console.log([gd, 'removed!']);\n",
       "            Plotly.purge(gd);\n",
       "            observer.disconnect();\n",
       "        }}\n",
       "}});\n",
       "\n",
       "// Listen for the removal of the full notebook cells\n",
       "var notebookContainer = gd.closest('#notebook-container');\n",
       "if (notebookContainer) {{\n",
       "    x.observe(notebookContainer, {childList: true});\n",
       "}}\n",
       "\n",
       "// Listen for the clearing of the current output cell\n",
       "var outputEl = gd.closest('.output');\n",
       "if (outputEl) {{\n",
       "    x.observe(outputEl, {childList: true});\n",
       "}}\n",
       "\n",
       "                        })\n",
       "                };\n",
       "                });\n",
       "            </script>\n",
       "        </div>"
      ]
     },
     "metadata": {},
     "output_type": "display_data"
    }
   ],
   "source": [
    "hist = pd.DataFrame(history.history)\n",
    "hist['epoch'] = history.epoch\n",
    "\n",
    "plot_data = [\n",
    "    go.Scatter(\n",
    "        x=hist['epoch'],\n",
    "        y=hist['loss'],\n",
    "        name='loss'\n",
    "    )\n",
    "    \n",
    "]\n",
    "\n",
    "plot_layout = go.Layout(\n",
    "        title='Training loss'\n",
    "    )\n",
    "fig = go.Figure(data=plot_data, layout=plot_layout)\n",
    "pyoff.iplot(fig)"
   ]
  },
  {
   "cell_type": "code",
   "execution_count": 46,
   "metadata": {},
   "outputs": [],
   "source": [
    "pred_list = []\n",
    "\n",
    "batch = predict[-n_input:].reshape((1, n_input, n_features))\n",
    "\n",
    "for i in range(n_input):   \n",
    "    pred_list.append(model.predict(batch)[0]) \n",
    "    batch = np.append(batch[:,1:,:],[[pred_list[i]]],axis=1)"
   ]
  },
  {
   "cell_type": "code",
   "execution_count": 47,
   "metadata": {},
   "outputs": [
    {
     "ename": "AttributeError",
     "evalue": "'numpy.ndarray' object has no attribute 'index'",
     "output_type": "error",
     "traceback": [
      "\u001b[1;31m---------------------------------------------------------------------------\u001b[0m",
      "\u001b[1;31mAttributeError\u001b[0m                            Traceback (most recent call last)",
      "\u001b[1;32m<ipython-input-47-fde696a0fc49>\u001b[0m in \u001b[0;36m<module>\u001b[1;34m\u001b[0m\n\u001b[1;32m----> 1\u001b[1;33m \u001b[0madd_dates\u001b[0m \u001b[1;33m=\u001b[0m \u001b[1;33m[\u001b[0m\u001b[0mpredict\u001b[0m\u001b[1;33m.\u001b[0m\u001b[0mindex\u001b[0m\u001b[1;33m[\u001b[0m\u001b[1;33m-\u001b[0m\u001b[1;36m1\u001b[0m\u001b[1;33m]\u001b[0m \u001b[1;33m+\u001b[0m \u001b[0mDateOffset\u001b[0m\u001b[1;33m(\u001b[0m\u001b[0mmonths\u001b[0m\u001b[1;33m=\u001b[0m\u001b[0mx\u001b[0m\u001b[1;33m)\u001b[0m \u001b[1;32mfor\u001b[0m \u001b[0mx\u001b[0m \u001b[1;32min\u001b[0m \u001b[0mrange\u001b[0m\u001b[1;33m(\u001b[0m\u001b[1;36m0\u001b[0m\u001b[1;33m,\u001b[0m\u001b[1;36m13\u001b[0m\u001b[1;33m)\u001b[0m \u001b[1;33m]\u001b[0m\u001b[1;33m\u001b[0m\u001b[1;33m\u001b[0m\u001b[0m\n\u001b[0m\u001b[0;32m      2\u001b[0m \u001b[0mfuture_dates\u001b[0m \u001b[1;33m=\u001b[0m \u001b[0mpd\u001b[0m\u001b[1;33m.\u001b[0m\u001b[0mDataFrame\u001b[0m\u001b[1;33m(\u001b[0m\u001b[0mindex\u001b[0m\u001b[1;33m=\u001b[0m\u001b[0madd_dates\u001b[0m\u001b[1;33m[\u001b[0m\u001b[1;36m1\u001b[0m\u001b[1;33m:\u001b[0m\u001b[1;33m]\u001b[0m\u001b[1;33m,\u001b[0m\u001b[0mcolumns\u001b[0m\u001b[1;33m=\u001b[0m\u001b[0mdf\u001b[0m\u001b[1;33m.\u001b[0m\u001b[0mcolumns\u001b[0m\u001b[1;33m)\u001b[0m\u001b[1;33m\u001b[0m\u001b[1;33m\u001b[0m\u001b[0m\n",
      "\u001b[1;32m<ipython-input-47-fde696a0fc49>\u001b[0m in \u001b[0;36m<listcomp>\u001b[1;34m(.0)\u001b[0m\n\u001b[1;32m----> 1\u001b[1;33m \u001b[0madd_dates\u001b[0m \u001b[1;33m=\u001b[0m \u001b[1;33m[\u001b[0m\u001b[0mpredict\u001b[0m\u001b[1;33m.\u001b[0m\u001b[0mindex\u001b[0m\u001b[1;33m[\u001b[0m\u001b[1;33m-\u001b[0m\u001b[1;36m1\u001b[0m\u001b[1;33m]\u001b[0m \u001b[1;33m+\u001b[0m \u001b[0mDateOffset\u001b[0m\u001b[1;33m(\u001b[0m\u001b[0mmonths\u001b[0m\u001b[1;33m=\u001b[0m\u001b[0mx\u001b[0m\u001b[1;33m)\u001b[0m \u001b[1;32mfor\u001b[0m \u001b[0mx\u001b[0m \u001b[1;32min\u001b[0m \u001b[0mrange\u001b[0m\u001b[1;33m(\u001b[0m\u001b[1;36m0\u001b[0m\u001b[1;33m,\u001b[0m\u001b[1;36m13\u001b[0m\u001b[1;33m)\u001b[0m \u001b[1;33m]\u001b[0m\u001b[1;33m\u001b[0m\u001b[1;33m\u001b[0m\u001b[0m\n\u001b[0m\u001b[0;32m      2\u001b[0m \u001b[0mfuture_dates\u001b[0m \u001b[1;33m=\u001b[0m \u001b[0mpd\u001b[0m\u001b[1;33m.\u001b[0m\u001b[0mDataFrame\u001b[0m\u001b[1;33m(\u001b[0m\u001b[0mindex\u001b[0m\u001b[1;33m=\u001b[0m\u001b[0madd_dates\u001b[0m\u001b[1;33m[\u001b[0m\u001b[1;36m1\u001b[0m\u001b[1;33m:\u001b[0m\u001b[1;33m]\u001b[0m\u001b[1;33m,\u001b[0m\u001b[0mcolumns\u001b[0m\u001b[1;33m=\u001b[0m\u001b[0mdf\u001b[0m\u001b[1;33m.\u001b[0m\u001b[0mcolumns\u001b[0m\u001b[1;33m)\u001b[0m\u001b[1;33m\u001b[0m\u001b[1;33m\u001b[0m\u001b[0m\n",
      "\u001b[1;31mAttributeError\u001b[0m: 'numpy.ndarray' object has no attribute 'index'"
     ]
    }
   ],
   "source": [
    "add_dates = [predict.index[-1] + DateOffset(months=x) for x in range(0,13) ]\n",
    "future_dates = pd.DataFrame(index=add_dates[1:],columns=df.columns)"
   ]
  },
  {
   "cell_type": "code",
   "execution_count": null,
   "metadata": {},
   "outputs": [],
   "source": [
    "df_predict = pd.DataFrame(scaler.inverse_transform(pred_list),\n",
    "                          index=future_dates[-n_input:].index, columns=['Prediction'])\n",
    "\n",
    "df_proj = pd.concat([df,df_predict], axis=1)\n",
    "\n",
    "df_proj.tail(12)"
   ]
  },
  {
   "cell_type": "code",
   "execution_count": null,
   "metadata": {},
   "outputs": [],
   "source": [
    "plot_data = [\n",
    "    go.Scatter(\n",
    "        x=df_proj.index,\n",
    "        y=df_proj['Sales'],\n",
    "        name='actual'\n",
    "    ),\n",
    "    go.Scatter(\n",
    "        x=df_proj.index,\n",
    "        y=df_proj['Prediction'],\n",
    "        name='prediction'\n",
    "    )\n",
    "]\n",
    "\n",
    "plot_layout = go.Layout(\n",
    "        title='Shampoo sales prediction'\n",
    "    )\n",
    "fig = go.Figure(data=plot_data, layout=plot_layout)\n",
    "pyoff.iplot(fig)"
   ]
  },
  {
   "cell_type": "code",
   "execution_count": null,
   "metadata": {},
   "outputs": [],
   "source": []
  },
  {
   "cell_type": "code",
   "execution_count": null,
   "metadata": {},
   "outputs": [],
   "source": []
  },
  {
   "cell_type": "code",
   "execution_count": null,
   "metadata": {},
   "outputs": [],
   "source": []
  }
 ],
 "metadata": {
  "kernelspec": {
   "display_name": "Python 3",
   "language": "python",
   "name": "python3"
  },
  "language_info": {
   "codemirror_mode": {
    "name": "ipython",
    "version": 3
   },
   "file_extension": ".py",
   "mimetype": "text/x-python",
   "name": "python",
   "nbconvert_exporter": "python",
   "pygments_lexer": "ipython3",
   "version": "3.6.8"
  }
 },
 "nbformat": 4,
 "nbformat_minor": 2
}
